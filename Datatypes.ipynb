{
 "cells": [
  {
   "cell_type": "code",
   "execution_count": 18,
   "id": "be17b6eb-a9f2-4025-b80a-f88e882ecf4e",
   "metadata": {},
   "outputs": [
    {
     "data": {
      "text/plain": [
       "str"
      ]
     },
     "execution_count": 18,
     "metadata": {},
     "output_type": "execute_result"
    }
   ],
   "source": [
    "first_string = \"Python is\"\n",
    "second_string = \" powerfull\"\n",
    "third_string = \"Language\"\n",
    "type(first_string)"
   ]
  },
  {
   "cell_type": "code",
   "execution_count": 23,
   "id": "55b0dcb4-df6a-4d45-a735-9a091fd86762",
   "metadata": {},
   "outputs": [
    {
     "name": "stdout",
     "output_type": "stream",
     "text": [
      "Python is a powerfull Language\n"
     ]
    }
   ],
   "source": [
    "print (first_string +\" \" + \"a\" + second_string + \" \" + third_string)"
   ]
  },
  {
   "cell_type": "code",
   "execution_count": 27,
   "id": "e4b8a38f-17ae-4b13-abd0-74f71c3a3310",
   "metadata": {},
   "outputs": [
    {
     "name": "stdout",
     "output_type": "stream",
     "text": [
      " Day Day Day Day Day Day Day Day Day Day Day Day Day Day Day Day Day Day Day Day Day Day Day Day Day Day Day Day Day Day Day Day Day Day Day Day Day Day Day Day Day Day Day Day Day Day Day Day Day Day Day Day Day Day Day Day Day Day Day Day Day Day Day Day Day Day Day Day Day Day Day Day Day Day Day Day Day Day Day Day Day Day Day Day Day Day Day Day Day Day Day Day Day Day Day Day Day Day Day Day\n"
     ]
    }
   ],
   "source": [
    "print( \" Day\" * 100)"
   ]
  },
  {
   "cell_type": "code",
   "execution_count": 28,
   "id": "dd47a426-3c33-4bbf-95bd-39aa7477e4c3",
   "metadata": {},
   "outputs": [
    {
     "name": "stdout",
     "output_type": "stream",
     "text": [
      "++++++++++++++++++++++++++++++++++++++++++++++++++\n",
      "                     DO NOT LOGIN                \n",
      "==================================================\n"
     ]
    }
   ],
   "source": [
    "print(\"+\" * 50)\n",
    "print(\"                     DO NOT LOGIN                \")\n",
    "print(\"=\" * 50)\n"
   ]
  },
  {
   "cell_type": "code",
   "execution_count": 30,
   "id": "ce96db02-b3f5-4acd-91a5-8c31550dcd8e",
   "metadata": {},
   "outputs": [
    {
     "name": "stdout",
     "output_type": "stream",
     "text": [
      "Day2\n"
     ]
    }
   ],
   "source": [
    "S1=str(line_1)\n",
    "S2=str(line_2)\n",
    "print(S1+S2)\n"
   ]
  },
  {
   "cell_type": "code",
   "execution_count": 33,
   "id": "ff1a8a29-ced9-428b-88c7-a22a5c63cd2d",
   "metadata": {},
   "outputs": [],
   "source": [
    "# LIST AND ITS COMMANDS\n",
    "#append is used to Edit the list\n",
    "#insert is used to insert an entry in to the list on a specific index in the list\n",
    "#extend is used to insert more than one entries to an existing list or making a list with multiple entries."
   ]
  },
  {
   "cell_type": "code",
   "execution_count": 37,
   "id": "bf6b22ea-692d-4125-a133-59db3b56f471",
   "metadata": {},
   "outputs": [
    {
     "data": {
      "text/plain": [
       "[]"
      ]
     },
     "execution_count": 37,
     "metadata": {},
     "output_type": "execute_result"
    }
   ],
   "source": [
    "Week_days = []\n",
    "Week_days"
   ]
  },
  {
   "cell_type": "code",
   "execution_count": 39,
   "id": "2f4db1d4-f1ce-4d78-99de-9acce30d4803",
   "metadata": {},
   "outputs": [],
   "source": [
    "Week_days.append (\"Monday\")"
   ]
  },
  {
   "cell_type": "code",
   "execution_count": 40,
   "id": "e8a7f1ac-b3c6-4ee2-8864-d8dd74f5fdd1",
   "metadata": {},
   "outputs": [
    {
     "data": {
      "text/plain": [
       "['Monday']"
      ]
     },
     "execution_count": 40,
     "metadata": {},
     "output_type": "execute_result"
    }
   ],
   "source": [
    "Week_days"
   ]
  },
  {
   "cell_type": "code",
   "execution_count": 41,
   "id": "d8147b0e-597f-47dd-8af1-fd2e523aa455",
   "metadata": {},
   "outputs": [],
   "source": [
    "Week_days.append (\"Tuesday\")"
   ]
  },
  {
   "cell_type": "code",
   "execution_count": 42,
   "id": "c9670c9b-58b0-441f-a46d-4ea1fd2fd55c",
   "metadata": {},
   "outputs": [],
   "source": [
    "Week_days.append (\"Wednessday\")"
   ]
  },
  {
   "cell_type": "code",
   "execution_count": 43,
   "id": "7d14cce9-e503-47cc-9adc-31ea8351cf6e",
   "metadata": {},
   "outputs": [
    {
     "data": {
      "text/plain": [
       "['Monday', 'Tuesday', 'Wednessday']"
      ]
     },
     "execution_count": 43,
     "metadata": {},
     "output_type": "execute_result"
    }
   ],
   "source": [
    "Week_days"
   ]
  },
  {
   "cell_type": "code",
   "execution_count": 44,
   "id": "6bbedba2-8b5d-4df7-86c0-ee355c2ba26e",
   "metadata": {},
   "outputs": [],
   "source": [
    "Week_days.append (\"Thursday\")"
   ]
  },
  {
   "cell_type": "code",
   "execution_count": 45,
   "id": "fd82e27d-3df3-41d9-8581-7982397f7fa7",
   "metadata": {},
   "outputs": [],
   "source": [
    "Week_days.append (\"Friday\")"
   ]
  },
  {
   "cell_type": "code",
   "execution_count": 46,
   "id": "5358d86a-4dc6-4b61-aebd-f18025267fdf",
   "metadata": {},
   "outputs": [],
   "source": [
    "Week_days.append (\"Saturday\")"
   ]
  },
  {
   "cell_type": "code",
   "execution_count": 47,
   "id": "834f9645-143a-497f-964e-b9f21f7c8bc5",
   "metadata": {},
   "outputs": [],
   "source": [
    "Week_days.append (\"Sunday\")"
   ]
  },
  {
   "cell_type": "code",
   "execution_count": 48,
   "id": "484f35f5-a372-4a99-8884-8d1546ba2bfd",
   "metadata": {},
   "outputs": [
    {
     "data": {
      "text/plain": [
       "['Monday', 'Tuesday', 'Wednessday', 'Thursday', 'Friday', 'Saturday', 'Sunday']"
      ]
     },
     "execution_count": 48,
     "metadata": {},
     "output_type": "execute_result"
    }
   ],
   "source": [
    "Week_days"
   ]
  },
  {
   "cell_type": "code",
   "execution_count": 50,
   "id": "4ddb0829-6574-4c08-b93c-7fbd2c6aa637",
   "metadata": {},
   "outputs": [
    {
     "data": {
      "text/plain": [
       "[]"
      ]
     },
     "execution_count": 50,
     "metadata": {},
     "output_type": "execute_result"
    }
   ],
   "source": [
    "family_members = []\n",
    "family_members"
   ]
  },
  {
   "cell_type": "code",
   "execution_count": 51,
   "id": "2c593658-4ecd-460c-8175-11573838fb4f",
   "metadata": {},
   "outputs": [
    {
     "data": {
      "text/plain": [
       "['Saqib']"
      ]
     },
     "execution_count": 51,
     "metadata": {},
     "output_type": "execute_result"
    }
   ],
   "source": [
    "family_members.append (\"Saqib\")\n",
    "family_members"
   ]
  },
  {
   "cell_type": "code",
   "execution_count": 52,
   "id": "d3307d8d-814b-4af3-a1f4-bf90ed88a43b",
   "metadata": {},
   "outputs": [
    {
     "data": {
      "text/plain": [
       "['Saqib', 'Abida', 'Abeera']"
      ]
     },
     "execution_count": 52,
     "metadata": {},
     "output_type": "execute_result"
    }
   ],
   "source": [
    "family_members.extend ([\"Abida\", \"Abeera\"])\n",
    "family_members"
   ]
  },
  {
   "cell_type": "code",
   "execution_count": 53,
   "id": "a0a2d9bb-286f-4413-aace-593b7b5d7353",
   "metadata": {},
   "outputs": [
    {
     "data": {
      "text/plain": [
       "['Saqib', 'Abida', 'Abeera', 'Osman']"
      ]
     },
     "execution_count": 53,
     "metadata": {},
     "output_type": "execute_result"
    }
   ],
   "source": [
    "family_members.insert(3, \"Osman\")\n",
    "family_members"
   ]
  },
  {
   "cell_type": "code",
   "execution_count": 54,
   "id": "cde9c21c-06e0-4cdd-a867-9b8a71cf0877",
   "metadata": {},
   "outputs": [
    {
     "data": {
      "text/plain": [
       "['Saqib', 'Abida', 'Abeera', 'Osman', 'Umer', 'Mahirah']"
      ]
     },
     "execution_count": 54,
     "metadata": {},
     "output_type": "execute_result"
    }
   ],
   "source": [
    "family_members.extend ([\"Umer\", \"Mahirah\"])\n",
    "family_members"
   ]
  },
  {
   "cell_type": "code",
   "execution_count": null,
   "id": "5c64ca80-e61c-437e-b302-7cb237eeded2",
   "metadata": {},
   "outputs": [],
   "source": [
    "# Indexing and slicing\n",
    "#indexing\n",
    "#slicing"
   ]
  },
  {
   "cell_type": "code",
   "execution_count": 55,
   "id": "2653895d-4ca5-4fdc-b5fb-b9e8f9082245",
   "metadata": {},
   "outputs": [
    {
     "data": {
      "text/plain": [
       "['Saqib', 'Abida', 'Abeera', 'Osman', 'Umer', 'Mahirah']"
      ]
     },
     "execution_count": 55,
     "metadata": {},
     "output_type": "execute_result"
    }
   ],
   "source": [
    "family_members"
   ]
  },
  {
   "cell_type": "code",
   "execution_count": 57,
   "id": "c4e31f21-54c7-40b6-afa0-ff58437769ef",
   "metadata": {},
   "outputs": [
    {
     "data": {
      "text/plain": [
       "['Abida', 'Abeera', 'Osman', 'Umer', 'Mahirah']"
      ]
     },
     "execution_count": 57,
     "metadata": {},
     "output_type": "execute_result"
    }
   ],
   "source": [
    "#family_members[1:] will exclude index 0 means name Saqib from the list\n",
    "family_members[1:]\n"
   ]
  },
  {
   "cell_type": "code",
   "execution_count": 58,
   "id": "1847cf5f-99f7-4e06-b6b9-faec7976eaf8",
   "metadata": {},
   "outputs": [
    {
     "data": {
      "text/plain": [
       "['Abida', 'Abeera', 'Osman', 'Umer', 'Mahirah']"
      ]
     },
     "execution_count": 58,
     "metadata": {},
     "output_type": "execute_result"
    }
   ],
   "source": [
    "family_members[1:]"
   ]
  },
  {
   "cell_type": "code",
   "execution_count": 59,
   "id": "04003940-3291-46db-9e5e-1ef49d624f42",
   "metadata": {},
   "outputs": [
    {
     "data": {
      "text/plain": [
       "['Saqib', 'Abida', 'Abeera', 'Osman', 'Umer']"
      ]
     },
     "execution_count": 59,
     "metadata": {},
     "output_type": "execute_result"
    }
   ],
   "source": [
    "#family_members[:5] will start from the first name and will end on the index n-1 it means that as the index starts from \"0\" so it excluded\n",
    "# the last name \"Mahirah\" from list. This is called indexing and slicing.\n",
    "family_members[:5]"
   ]
  },
  {
   "cell_type": "code",
   "execution_count": 60,
   "id": "41b7fe8b-71c8-4de4-9d3c-66a0961a4787",
   "metadata": {},
   "outputs": [
    {
     "data": {
      "text/plain": [
       "['Saqib', 'Abida', 'Abeera', 'Osman', 'Umer']"
      ]
     },
     "execution_count": 60,
     "metadata": {},
     "output_type": "execute_result"
    }
   ],
   "source": [
    "family_members[:5]"
   ]
  },
  {
   "cell_type": "code",
   "execution_count": 62,
   "id": "6d5efb9a-43d4-4dba-9aaa-343543d9d54f",
   "metadata": {},
   "outputs": [
    {
     "data": {
      "text/plain": [
       "'Mahirah'"
      ]
     },
     "execution_count": 62,
     "metadata": {},
     "output_type": "execute_result"
    }
   ],
   "source": [
    "#family_members[5] it will print the object corresponding to the index number \"5\" from the list as can be seen below\n",
    "#['Saqib', 'Abida', 'Abeera', 'Osman', 'Umer', 'Mahirah']\n",
    "\n",
    "family_members[5]\n"
   ]
  },
  {
   "cell_type": "code",
   "execution_count": null,
   "id": "b1db127e-e2fa-4baf-867a-bffca048cab8",
   "metadata": {},
   "outputs": [],
   "source": [
    "#Sets has two main charachteristics \n",
    "#1)- All entries will be unique \n",
    "#2)- It will organise the data by itself in ascending order"
   ]
  },
  {
   "cell_type": "code",
   "execution_count": 20,
   "id": "fc84a939-ec4e-4781-a529-bdcf4cdd682b",
   "metadata": {},
   "outputs": [
    {
     "data": {
      "text/plain": [
       "set()"
      ]
     },
     "execution_count": 20,
     "metadata": {},
     "output_type": "execute_result"
    }
   ],
   "source": [
    "Roll_Number=set()\n",
    "Roll_Number"
   ]
  },
  {
   "cell_type": "code",
   "execution_count": 21,
   "id": "015763b7-9bd0-4c51-988e-f72acc728c04",
   "metadata": {},
   "outputs": [
    {
     "data": {
      "text/plain": [
       "{1}"
      ]
     },
     "execution_count": 21,
     "metadata": {},
     "output_type": "execute_result"
    }
   ],
   "source": [
    "Roll_Number.add(1)\n",
    "Roll_Number"
   ]
  },
  {
   "cell_type": "code",
   "execution_count": 22,
   "id": "fa0a1f60-934e-438a-abe5-a8474911863c",
   "metadata": {},
   "outputs": [
    {
     "data": {
      "text/plain": [
       "{1, 2}"
      ]
     },
     "execution_count": 22,
     "metadata": {},
     "output_type": "execute_result"
    }
   ],
   "source": [
    "Roll_Number.add(2)\n",
    "Roll_Number"
   ]
  },
  {
   "cell_type": "code",
   "execution_count": 24,
   "id": "f87bc2eb-d2b9-4b87-b7d7-5d253dfadd2d",
   "metadata": {},
   "outputs": [
    {
     "data": {
      "text/plain": [
       "{1, 2, 7}"
      ]
     },
     "execution_count": 24,
     "metadata": {},
     "output_type": "execute_result"
    }
   ],
   "source": [
    "Roll_Number.add(7)\n",
    "Roll_Number"
   ]
  },
  {
   "cell_type": "code",
   "execution_count": 25,
   "id": "c459caa4-788c-4c92-b9fb-be5c36f901ea",
   "metadata": {},
   "outputs": [
    {
     "data": {
      "text/plain": [
       "list[8, 5, 6, 3, 2, 5, 1, 8, 2, 2, 3, 4, 1, 1, 1]"
      ]
     },
     "execution_count": 25,
     "metadata": {},
     "output_type": "execute_result"
    }
   ],
   "source": [
    "remove_dups=list[8,5,6,3,2,5,1,8,2,2,3,4,1,1,1,]\n",
    "remove_dups"
   ]
  },
  {
   "cell_type": "code",
   "execution_count": 27,
   "id": "c1ab86ec-5513-4bc4-b3c9-06c514f1346f",
   "metadata": {},
   "outputs": [
    {
     "data": {
      "text/plain": [
       "{*list[8, 5, 6, 3, 2, 5, 1, 8, 2, 2, 3, 4, 1, 1, 1]}"
      ]
     },
     "execution_count": 27,
     "metadata": {},
     "output_type": "execute_result"
    }
   ],
   "source": [
    "dups_removed=set(remove_dups)\n",
    "dups_removed"
   ]
  },
  {
   "cell_type": "code",
   "execution_count": 30,
   "id": "1670f75f-8b5c-48c6-bbd9-d21de79e5d34",
   "metadata": {},
   "outputs": [
    {
     "ename": "KeyError",
     "evalue": "list[8, 5, 6, 3, 2, 5, 1, 8, 2, 2, 3, 4, 1, 1, 1]",
     "output_type": "error",
     "traceback": [
      "\u001b[1;31m---------------------------------------------------------------------------\u001b[0m",
      "\u001b[1;31mKeyError\u001b[0m                                  Traceback (most recent call last)",
      "Cell \u001b[1;32mIn[30], line 1\u001b[0m\n\u001b[1;32m----> 1\u001b[0m dups_removed\u001b[38;5;241m.\u001b[39mremove(remove_dups)\n\u001b[0;32m      2\u001b[0m dups_removed\n",
      "\u001b[1;31mKeyError\u001b[0m: list[8, 5, 6, 3, 2, 5, 1, 8, 2, 2, 3, 4, 1, 1, 1]"
     ]
    }
   ],
   "source": [
    "dups_removed.remove(remove_dups)\n",
    "dups_removed"
   ]
  },
  {
   "cell_type": "code",
   "execution_count": 31,
   "id": "53f99f87-4d0c-4788-8204-18ad441bc5e1",
   "metadata": {},
   "outputs": [
    {
     "data": {
      "text/plain": [
       "list[8, 5, 6, 3, 2, 5, 1, 8, 2, 2, 3, 4, 1, 1, 1]"
      ]
     },
     "execution_count": 31,
     "metadata": {},
     "output_type": "execute_result"
    }
   ],
   "source": [
    "remove_dups"
   ]
  },
  {
   "cell_type": "code",
   "execution_count": 32,
   "id": "4c96fd31-b77b-4e62-ba18-8941d5f4c3e4",
   "metadata": {},
   "outputs": [
    {
     "data": {
      "text/plain": [
       "{*list[8, 5, 6, 3, 2, 5, 1, 8, 2, 2, 3, 4, 1, 1, 1]}"
      ]
     },
     "execution_count": 32,
     "metadata": {},
     "output_type": "execute_result"
    }
   ],
   "source": [
    "dups_removed=set(remove_dups)\n",
    "dups_removed"
   ]
  },
  {
   "cell_type": "code",
   "execution_count": 33,
   "id": "c1a69fd5-3f28-41d6-b508-4536d8df176b",
   "metadata": {},
   "outputs": [
    {
     "ename": "KeyError",
     "evalue": "list[8, 5, 6, 3, 2, 5, 1, 8, 2, 2, 3, 4, 1, 1, 1]",
     "output_type": "error",
     "traceback": [
      "\u001b[1;31m---------------------------------------------------------------------------\u001b[0m",
      "\u001b[1;31mKeyError\u001b[0m                                  Traceback (most recent call last)",
      "Cell \u001b[1;32mIn[33], line 1\u001b[0m\n\u001b[1;32m----> 1\u001b[0m dups_removed\u001b[38;5;241m.\u001b[39mremove(remove_dups)\n\u001b[0;32m      2\u001b[0m dups_removed\n",
      "\u001b[1;31mKeyError\u001b[0m: list[8, 5, 6, 3, 2, 5, 1, 8, 2, 2, 3, 4, 1, 1, 1]"
     ]
    }
   ],
   "source": [
    "dups_removed.remove(remove_dups)\n",
    "dups_removed"
   ]
  },
  {
   "cell_type": "code",
   "execution_count": 34,
   "id": "f0f66d6c-1589-4f15-9d6a-f0bdfd4c8775",
   "metadata": {},
   "outputs": [
    {
     "data": {
      "text/plain": [
       "{*list[8, 5, 6, 3, 2, 5, 1, 8, 2, 2, 3, 4, 1, 1, 1]}"
      ]
     },
     "execution_count": 34,
     "metadata": {},
     "output_type": "execute_result"
    }
   ],
   "source": [
    "dups_removed"
   ]
  },
  {
   "cell_type": "code",
   "execution_count": 35,
   "id": "941575b7-122c-4f69-9ab8-e537de763c49",
   "metadata": {},
   "outputs": [
    {
     "data": {
      "text/plain": [
       "list[8, 5, 6, 3, 2, 5, 1, 8, 2, 2, 3, 4, 1, 1, 1]"
      ]
     },
     "execution_count": 35,
     "metadata": {},
     "output_type": "execute_result"
    }
   ],
   "source": [
    "remove_dups"
   ]
  },
  {
   "cell_type": "code",
   "execution_count": 43,
   "id": "20552a37-1f64-4dfe-b47f-93e72ddf3730",
   "metadata": {},
   "outputs": [
    {
     "data": {
      "text/plain": [
       "{*list[8, 5, 6, 3, 2, 5, 1, 8, 2, 2, 3, 4, 1, 1, 1]}"
      ]
     },
     "execution_count": 43,
     "metadata": {},
     "output_type": "execute_result"
    }
   ],
   "source": [
    "dup_removed = set (remove_dups)\n",
    "dup_removed"
   ]
  },
  {
   "cell_type": "code",
   "execution_count": 44,
   "id": "29eaee7d-3a33-4e51-bab6-87b2bcb6ccff",
   "metadata": {},
   "outputs": [
    {
     "data": {
      "text/plain": [
       "list[8, 5, 6, 3, 2, 5, 1, 8, 2, 2, 3, 4, 1, 1, 1]"
      ]
     },
     "execution_count": 44,
     "metadata": {},
     "output_type": "execute_result"
    }
   ],
   "source": [
    "remove_dups"
   ]
  },
  {
   "cell_type": "code",
   "execution_count": 45,
   "id": "68fb2d89-d196-43b0-a6d8-b2acc08cb056",
   "metadata": {},
   "outputs": [
    {
     "data": {
      "text/plain": [
       "[8, 5, 6, 3, 2, 5, 1, 8, 2, 2, 3, 4, 1, 1, 1]"
      ]
     },
     "execution_count": 45,
     "metadata": {},
     "output_type": "execute_result"
    }
   ],
   "source": [
    "remove_dup1=[8, 5, 6, 3, 2, 5, 1, 8, 2, 2, 3, 4, 1, 1, 1]\n",
    "remove_dup1"
   ]
  },
  {
   "cell_type": "code",
   "execution_count": 41,
   "id": "b6a7dc17-59e1-4dc4-9934-71e970d59722",
   "metadata": {},
   "outputs": [
    {
     "data": {
      "text/plain": [
       "list"
      ]
     },
     "execution_count": 41,
     "metadata": {},
     "output_type": "execute_result"
    }
   ],
   "source": [
    "type(remove_dup1)"
   ]
  },
  {
   "cell_type": "code",
   "execution_count": 46,
   "id": "d41e5d15-3091-4030-91a8-0b4064fd22a1",
   "metadata": {},
   "outputs": [
    {
     "data": {
      "text/plain": [
       "{1, 2, 3, 4, 5, 6, 8}"
      ]
     },
     "execution_count": 46,
     "metadata": {},
     "output_type": "execute_result"
    }
   ],
   "source": [
    "dup_remove1 = set (remove_dup1)\n",
    "dup_remove1"
   ]
  },
  {
   "cell_type": "code",
   "execution_count": null,
   "id": "63849c5f-d954-405c-b21d-878c175e8dde",
   "metadata": {},
   "outputs": [],
   "source": [
    "# Dictionary: is like a table structure in which the Table Header is called \"Key\" and the entries under each header are called \"Values\".\n",
    "# As \"Key\" is the header so it will be unique and it can have different \"Values\" associated with it.\n",
    "# Three main questions are addressed in this lesson:\n",
    "# How to construct a dictionary?\n",
    "# Accessing objects like \"Key\" and \"Values\" from the dictionary?\n",
    "# What are the basic dictionary methods?"
   ]
  },
  {
   "cell_type": "code",
   "execution_count": 47,
   "id": "67629f24-7039-45f4-bf8d-4cc1d191b706",
   "metadata": {},
   "outputs": [
    {
     "data": {
      "text/plain": [
       "{'key1': 'Value1', 'key2': 'Value2'}"
      ]
     },
     "execution_count": 47,
     "metadata": {},
     "output_type": "execute_result"
    }
   ],
   "source": [
    "my_dic = {\"key1\" : \"Value1\" , \"key2\" : \"Value2\"}\n",
    "my_dic"
   ]
  },
  {
   "cell_type": "code",
   "execution_count": 59,
   "id": "5d2800b7-395d-4969-9aa7-c1cfcca2f722",
   "metadata": {},
   "outputs": [
    {
     "data": {
      "text/plain": [
       "{'key1': 'Value1', 'key2': 'Value2'}"
      ]
     },
     "execution_count": 59,
     "metadata": {},
     "output_type": "execute_result"
    }
   ],
   "source": [
    "my_dic[\"key1\"]\n",
    "my_dic"
   ]
  },
  {
   "cell_type": "code",
   "execution_count": 60,
   "id": "d316716b-554e-4317-b7b4-fd524351831c",
   "metadata": {},
   "outputs": [
    {
     "data": {
      "text/plain": [
       "'Value1'"
      ]
     },
     "execution_count": 60,
     "metadata": {},
     "output_type": "execute_result"
    }
   ],
   "source": [
    "my_dic[\"key1\"]"
   ]
  },
  {
   "cell_type": "code",
   "execution_count": 61,
   "id": "68751355-734d-42a9-a24f-20d64f0aeecc",
   "metadata": {},
   "outputs": [
    {
     "ename": "KeyError",
     "evalue": "'Key1'",
     "output_type": "error",
     "traceback": [
      "\u001b[1;31m---------------------------------------------------------------------------\u001b[0m",
      "\u001b[1;31mKeyError\u001b[0m                                  Traceback (most recent call last)",
      "Cell \u001b[1;32mIn[61], line 1\u001b[0m\n\u001b[1;32m----> 1\u001b[0m my_dic[\u001b[38;5;124m\"\u001b[39m\u001b[38;5;124mKey1\u001b[39m\u001b[38;5;124m\"\u001b[39m]\n",
      "\u001b[1;31mKeyError\u001b[0m: 'Key1'"
     ]
    }
   ],
   "source": [
    "my_dic[\"Key1\"]"
   ]
  },
  {
   "cell_type": "code",
   "execution_count": 63,
   "id": "7d39fe98-354b-4007-b947-6d566eae0243",
   "metadata": {},
   "outputs": [
    {
     "data": {
      "text/plain": [
       "'Value1'"
      ]
     },
     "execution_count": 63,
     "metadata": {},
     "output_type": "execute_result"
    }
   ],
   "source": [
    "my_dic[\"key1\"]"
   ]
  },
  {
   "cell_type": "code",
   "execution_count": 64,
   "id": "7d194a81-84b2-4ddc-970c-01fa3c75f78c",
   "metadata": {},
   "outputs": [
    {
     "data": {
      "text/plain": [
       "'Value2'"
      ]
     },
     "execution_count": 64,
     "metadata": {},
     "output_type": "execute_result"
    }
   ],
   "source": [
    "my_dic[\"key2\"]"
   ]
  },
  {
   "cell_type": "code",
   "execution_count": 66,
   "id": "d2a85745-94fc-4fe9-9e14-10ee5945af7e",
   "metadata": {},
   "outputs": [
    {
     "data": {
      "text/plain": [
       "{'roll_number': 123,\n",
       " 'subject': ['Science', 'maths', 'English'],\n",
       " 'Marks': [40, 70, 90]}"
      ]
     },
     "execution_count": 66,
     "metadata": {},
     "output_type": "execute_result"
    }
   ],
   "source": [
    "my_dic1 = {'roll_number': 123, \"subject\": [\"Science\", \"maths\", \"English\"], \"Marks\": [40,70,90]}\n",
    "my_dic1"
   ]
  },
  {
   "cell_type": "code",
   "execution_count": 67,
   "id": "1d88bc4e-91ae-4759-88f6-8afbb8ec0af0",
   "metadata": {},
   "outputs": [
    {
     "data": {
      "text/plain": [
       "'maths'"
      ]
     },
     "execution_count": 67,
     "metadata": {},
     "output_type": "execute_result"
    }
   ],
   "source": [
    "my_dic1[\"subject\"][1]"
   ]
  },
  {
   "cell_type": "code",
   "execution_count": 70,
   "id": "9b9d4c59-bf09-4197-bf7d-538953e482c6",
   "metadata": {},
   "outputs": [
    {
     "data": {
      "text/plain": [
       "'SCIENCE'"
      ]
     },
     "execution_count": 70,
     "metadata": {},
     "output_type": "execute_result"
    }
   ],
   "source": [
    "my_dic1[\"subject\"][0].upper()"
   ]
  },
  {
   "cell_type": "code",
   "execution_count": 73,
   "id": "644b2d65-2a11-4cb9-80f9-317e68ca935b",
   "metadata": {},
   "outputs": [
    {
     "data": {
      "text/plain": [
       "'MATHS'"
      ]
     },
     "execution_count": 73,
     "metadata": {},
     "output_type": "execute_result"
    }
   ],
   "source": [
    "my_dic1[\"subject\"][1].upper()"
   ]
  },
  {
   "cell_type": "code",
   "execution_count": 78,
   "id": "2574af25-cfb3-4ad2-ad0b-dfb461ff348d",
   "metadata": {},
   "outputs": [
    {
     "data": {
      "text/plain": [
       "'maths'"
      ]
     },
     "execution_count": 78,
     "metadata": {},
     "output_type": "execute_result"
    }
   ],
   "source": [
    "my_dic1[\"subject\"][1].lower()"
   ]
  },
  {
   "cell_type": "code",
   "execution_count": 79,
   "id": "86e0f649-288b-49a2-a61a-32433f8b66aa",
   "metadata": {},
   "outputs": [
    {
     "ename": "AttributeError",
     "evalue": "'list' object has no attribute 'upper'",
     "output_type": "error",
     "traceback": [
      "\u001b[1;31m---------------------------------------------------------------------------\u001b[0m",
      "\u001b[1;31mAttributeError\u001b[0m                            Traceback (most recent call last)",
      "Cell \u001b[1;32mIn[79], line 1\u001b[0m\n\u001b[1;32m----> 1\u001b[0m my_dic1[\u001b[38;5;124m\"\u001b[39m\u001b[38;5;124msubject\u001b[39m\u001b[38;5;124m\"\u001b[39m]\u001b[38;5;241m.\u001b[39mupper()\n",
      "\u001b[1;31mAttributeError\u001b[0m: 'list' object has no attribute 'upper'"
     ]
    }
   ],
   "source": [
    "my_dic1[\"subject\"].upper()"
   ]
  },
  {
   "cell_type": "code",
   "execution_count": 81,
   "id": "3f54cace-778f-4aa5-84b5-1ef3ed6a80a3",
   "metadata": {},
   "outputs": [
    {
     "data": {
      "text/plain": [
       "'SCIENCE'"
      ]
     },
     "execution_count": 81,
     "metadata": {},
     "output_type": "execute_result"
    }
   ],
   "source": [
    "my_dic1[\"subject\"][0].upper()"
   ]
  },
  {
   "cell_type": "code",
   "execution_count": 93,
   "id": "6f49b635-6caa-432e-a3b5-fed1d3d0e92a",
   "metadata": {},
   "outputs": [
    {
     "data": {
      "text/plain": [
       "{'roll_number': '910',\n",
       " 'subject': ['Science', 'maths', 'English'],\n",
       " 'Marks': [40, 70, 90]}"
      ]
     },
     "execution_count": 93,
     "metadata": {},
     "output_type": "execute_result"
    }
   ],
   "source": [
    "my_dic1[\"roll_number\"]=\"910\"\n",
    "2my_dic1"
   ]
  },
  {
   "cell_type": "code",
   "execution_count": 97,
   "id": "4ce04604-495d-40e6-a4bf-5a49d4e72b63",
   "metadata": {},
   "outputs": [
    {
     "data": {
      "text/plain": [
       "{'roll_number': ('910', '123'),\n",
       " 'subject': ['Science', 'maths', 'English'],\n",
       " 'Marks': [40, 70, 90]}"
      ]
     },
     "execution_count": 97,
     "metadata": {},
     "output_type": "execute_result"
    }
   ],
   "source": [
    "my_dic1"
   ]
  },
  {
   "cell_type": "code",
   "execution_count": 105,
   "id": "4b636d95-8c05-4f33-915a-d589df298cf7",
   "metadata": {},
   "outputs": [
    {
     "data": {
      "text/plain": [
       "{'roll_number': [910, 123],\n",
       " 'subject': ['Science', 'maths', 'English'],\n",
       " 'Marks': [40, 70, 90]}"
      ]
     },
     "execution_count": 105,
     "metadata": {},
     "output_type": "execute_result"
    }
   ],
   "source": [
    "my_dic1.update({\"roll_number\":[910,123]})\n",
    "my_dic1"
   ]
  },
  {
   "cell_type": "code",
   "execution_count": 122,
   "id": "482432e5-947c-4fea-93a8-5658a6a6481b",
   "metadata": {},
   "outputs": [
    {
     "data": {
      "text/plain": [
       "{'subject': ['Science', 'maths', 'English'], 'Marks': [40, 70, 90]}"
      ]
     },
     "execution_count": 122,
     "metadata": {},
     "output_type": "execute_result"
    }
   ],
   "source": [
    "my_dic1.pop(\"roll_number\")\n",
    "my_dic1"
   ]
  },
  {
   "cell_type": "code",
   "execution_count": 124,
   "id": "18221d1f-1376-4c66-a880-a4f915560a03",
   "metadata": {},
   "outputs": [
    {
     "data": {
      "text/plain": [
       "{'roll_number': [110, 210],\n",
       " 'subject': ['Science', 'maths', 'English'],\n",
       " 'Marks': [40, 70, 90]}"
      ]
     },
     "execution_count": 124,
     "metadata": {},
     "output_type": "execute_result"
    }
   ],
   "source": [
    "my_dic1={\"roll_number\":[110,210],'subject': ['Science', 'maths', 'English'], 'Marks': [40, 70, 90]}\n",
    "my_dic1"
   ]
  },
  {
   "cell_type": "code",
   "execution_count": 129,
   "id": "cf4bdeae-bfbc-4dc2-8a69-8af54dbee432",
   "metadata": {},
   "outputs": [
    {
     "data": {
      "text/plain": [
       "dict_keys(['roll_number', 'subject', 'Marks'])"
      ]
     },
     "execution_count": 129,
     "metadata": {},
     "output_type": "execute_result"
    }
   ],
   "source": [
    "my_dic1.keys()"
   ]
  },
  {
   "cell_type": "code",
   "execution_count": 130,
   "id": "1ad745f4-7cf2-4042-a589-7ba526c9cfd0",
   "metadata": {},
   "outputs": [
    {
     "data": {
      "text/plain": [
       "dict_values([[110, 210], ['Science', 'maths', 'English'], [40, 70, 90]])"
      ]
     },
     "execution_count": 130,
     "metadata": {},
     "output_type": "execute_result"
    }
   ],
   "source": [
    "my_dic1.values()"
   ]
  },
  {
   "cell_type": "code",
   "execution_count": 133,
   "id": "51a67e9c-f04b-4808-922f-6910494c04ef",
   "metadata": {},
   "outputs": [
    {
     "data": {
      "text/plain": [
       "dict_items"
      ]
     },
     "execution_count": 133,
     "metadata": {},
     "output_type": "execute_result"
    }
   ],
   "source": [
    "my_dic1.items()\n",
    "type(my_dic1.items())"
   ]
  },
  {
   "cell_type": "code",
   "execution_count": 132,
   "id": "0046b4d6-b2c6-49ac-bf74-ddeddd5d7e7c",
   "metadata": {},
   "outputs": [
    {
     "data": {
      "text/plain": [
       "{'roll_number': [110, 210],\n",
       " 'subject': ['Science', 'maths', 'English'],\n",
       " 'Marks': [40, 70, 90]}"
      ]
     },
     "execution_count": 132,
     "metadata": {},
     "output_type": "execute_result"
    }
   ],
   "source": [
    "my_dic1"
   ]
  },
  {
   "cell_type": "code",
   "execution_count": null,
   "id": "bf7969a4-8ec9-455e-9324-dc191c63d31c",
   "metadata": {},
   "outputs": [],
   "source": [
    "#Branching"
   ]
  },
  {
   "cell_type": "code",
   "execution_count": 139,
   "id": "372a3830-ac7a-438c-8d0d-6f61e1eea46c",
   "metadata": {},
   "outputs": [
    {
     "name": "stdout",
     "output_type": "stream",
     "text": [
      "Your item is eligble for free delivery\n"
     ]
    }
   ],
   "source": [
    "item1 = 30\n",
    "item2 = 20\n",
    "if (item1 + item2) >= 40:\n",
    "    print(\"Your item is eligble for free delivery\")\n",
    "\n",
    "else:\n",
    "    extra= 40-(item1 + item2)\n",
    "    print(\"Please add\", extra, \"£ worth of an item for free delivery\")"
   ]
  },
  {
   "cell_type": "code",
   "execution_count": 140,
   "id": "b89bccc4-1097-4d5e-ba84-02709acdb731",
   "metadata": {},
   "outputs": [
    {
     "name": "stdout",
     "output_type": "stream",
     "text": [
      "Please add 10 £ worth of an item for free delivery\n"
     ]
    }
   ],
   "source": [
    "item1 = 20\n",
    "item2 = 10\n",
    "if (item1 + item2) >= 40:\n",
    "    print(\"Your item is eligble for free delivery\")\n",
    "\n",
    "else:\n",
    "    extra= 40-(item1 + item2)\n",
    "    print(\"Please add\", extra, \"£ worth of an item for free delivery\")"
   ]
  },
  {
   "cell_type": "code",
   "execution_count": 141,
   "id": "c6518365-879b-483e-b619-d6f100149f6f",
   "metadata": {},
   "outputs": [
    {
     "name": "stdout",
     "output_type": "stream",
     "text": [
      "False\n"
     ]
    }
   ],
   "source": [
    "a=200\n",
    "b=100\n",
    "c=300\n",
    "\n",
    "if a > b and c < a:\n",
    "    print(\"True\")\n",
    "\n",
    "else:\n",
    "    print(\"False\")\n",
    "    "
   ]
  },
  {
   "cell_type": "code",
   "execution_count": 142,
   "id": "556f37cc-cf18-4dc8-9fb2-69aef3eb0293",
   "metadata": {},
   "outputs": [
    {
     "name": "stdout",
     "output_type": "stream",
     "text": [
      "True\n"
     ]
    }
   ],
   "source": [
    "a=200\n",
    "b=100\n",
    "c=300\n",
    "\n",
    "if a > b or c < a:\n",
    "    print(\"True\")\n",
    "\n",
    "else:\n",
    "    print(\"False\")"
   ]
  },
  {
   "cell_type": "code",
   "execution_count": 150,
   "id": "9715c503-3822-4876-8d1d-97ed1b406330",
   "metadata": {},
   "outputs": [
    {
     "name": "stdout",
     "output_type": "stream",
     "text": [
      "33 You are a dumb\n"
     ]
    }
   ],
   "source": [
    "#Program_2 Using nested If and elif in relation to one variable implicitly\n",
    "\n",
    "marks = 33\n",
    "if marks >= 60:\n",
    "    if marks >= 70:\n",
    "        print(marks, \"Distinction\")\n",
    "    else:\n",
    "        print(marks, \"First Class\")\n",
    "\n",
    "elif 50 < marks < 60:\n",
    "    print(marks, \"Second Class\")\n",
    "\n",
    "elif marks >=40 and marks <= 50:\n",
    "    print(marks, \"Pass\")\n",
    "\n",
    "else:\n",
    "    print(marks, \"You are a dumb\")"
   ]
  },
  {
   "cell_type": "code",
   "execution_count": 149,
   "id": "ee6dc2fe-76b1-4a44-a562-5ce35d48365e",
   "metadata": {},
   "outputs": [
    {
     "name": "stdout",
     "output_type": "stream",
     "text": [
      "This is greater than 25\n"
     ]
    }
   ],
   "source": [
    "# use of if and elif in when there are two variables are being used explicitly in accordance with the conditions being applied upon them.\n",
    "a=20\n",
    "b=30\n",
    "if a < 20:\n",
    "    print(\"True\")\n",
    "elif b > 25:\n",
    "    print(\"This is greater than 25\")"
   ]
  },
  {
   "cell_type": "code",
   "execution_count": null,
   "id": "89032f3f-f8fd-415f-8361-e3512e0bdeb3",
   "metadata": {},
   "outputs": [],
   "source": [
    "#The Range Function"
   ]
  },
  {
   "cell_type": "code",
   "execution_count": 157,
   "id": "7b15d629-720e-436a-89bf-80a7a51517e3",
   "metadata": {},
   "outputs": [
    {
     "name": "stdout",
     "output_type": "stream",
     "text": [
      "range(0, 10)\n"
     ]
    }
   ],
   "source": [
    "print(range(10))"
   ]
  },
  {
   "cell_type": "code",
   "execution_count": 158,
   "id": "5e1fbd78-a5fe-4265-98bf-09b261c9c812",
   "metadata": {},
   "outputs": [
    {
     "data": {
      "text/plain": [
       "range(0, 10)"
      ]
     },
     "execution_count": 158,
     "metadata": {},
     "output_type": "execute_result"
    }
   ],
   "source": [
    "range(10)"
   ]
  },
  {
   "cell_type": "code",
   "execution_count": 160,
   "id": "954df246-7084-4ed7-b659-694942a481d9",
   "metadata": {},
   "outputs": [
    {
     "name": "stdout",
     "output_type": "stream",
     "text": [
      "[0, 1, 2, 3, 4, 5, 6, 7, 8, 9]\n"
     ]
    }
   ],
   "source": [
    "print(list(range(10)))"
   ]
  },
  {
   "cell_type": "code",
   "execution_count": 166,
   "id": "d1d9f0c6-c71f-4406-88b0-2b9fc0af62a7",
   "metadata": {},
   "outputs": [
    {
     "data": {
      "text/plain": [
       "[-10, -9, -8, -7, -6, -5, -4, -3, -2, -1, 0, 1, 2, 3, 4, 5, 6, 7, 8, 9]"
      ]
     },
     "execution_count": 166,
     "metadata": {},
     "output_type": "execute_result"
    }
   ],
   "source": [
    "x = list(range(-10,10,1))\n",
    "x"
   ]
  },
  {
   "cell_type": "code",
   "execution_count": 169,
   "id": "a2819d5f-bb28-449c-9054-b44b8e38dea6",
   "metadata": {},
   "outputs": [
    {
     "data": {
      "text/plain": [
       "[1, 2, 3, 4, 5, 6, 7, 8, 9]"
      ]
     },
     "execution_count": 169,
     "metadata": {},
     "output_type": "execute_result"
    }
   ],
   "source": [
    "y=list(range(1,10))\n",
    "y"
   ]
  },
  {
   "cell_type": "code",
   "execution_count": 173,
   "id": "cb77f78a-62d6-41e9-a0e7-dcdfd2254dbd",
   "metadata": {},
   "outputs": [
    {
     "data": {
      "text/plain": [
       "[-10, -9, -8, -7, -6, -5, -4, -3, -2, -1, 0, 1, 2, 3, 4, 5, 6, 7, 8, 9]"
      ]
     },
     "execution_count": 173,
     "metadata": {},
     "output_type": "execute_result"
    }
   ],
   "source": [
    "x=list(range(-10,10,1))\n",
    "x"
   ]
  },
  {
   "cell_type": "code",
   "execution_count": 175,
   "id": "a624b9e7-bc9e-4e58-bae7-ce50866f7721",
   "metadata": {},
   "outputs": [
    {
     "data": {
      "text/plain": [
       "[2000, 2500, 3000, 3500, 4000, 4500, 5000, 5500]"
      ]
     },
     "execution_count": 175,
     "metadata": {},
     "output_type": "execute_result"
    }
   ],
   "source": [
    "salary = list (range(2000,6000,500))\n",
    "salary"
   ]
  },
  {
   "cell_type": "code",
   "execution_count": 176,
   "id": "cc647131-9a68-4e0f-a558-addea0d1b6b5",
   "metadata": {},
   "outputs": [
    {
     "data": {
      "text/plain": [
       "[2000, 2500, 3000, 3500, 4000, 4500, 5000, 5500]"
      ]
     },
     "execution_count": 176,
     "metadata": {},
     "output_type": "execute_result"
    }
   ],
   "source": [
    "salary=[2000, 2500, 3000, 3500, 4000, 4500, 5000, 5500]\n",
    "salary"
   ]
  },
  {
   "cell_type": "code",
   "execution_count": 179,
   "id": "d2299b39-e82d-432e-93f9-539ff4b10b6c",
   "metadata": {},
   "outputs": [
    {
     "name": "stdout",
     "output_type": "stream",
     "text": [
      "3500\n",
      "4000\n",
      "4500\n",
      "5000\n",
      "5500\n"
     ]
    }
   ],
   "source": [
    "salary=[2000, 2500, 3000, 3500, 4000, 4500, 5000, 5500]\n",
    "for value in salary:\n",
    "    if value > 3000:\n",
    "        print(value)"
   ]
  },
  {
   "cell_type": "code",
   "execution_count": 184,
   "id": "5c960fea-bb4a-4996-81b3-b20e25d28011",
   "metadata": {},
   "outputs": [
    {
     "name": "stdout",
     "output_type": "stream",
     "text": [
      "30\n",
      "45\n",
      "39\n",
      "28\n"
     ]
    }
   ],
   "source": [
    "x = [20,25,30, 45,89,39,100,28]\n",
    "for value in x:\n",
    "    if 25 < value < 60:\n",
    "        print(value)"
   ]
  },
  {
   "cell_type": "code",
   "execution_count": 185,
   "id": "9ad053e2-b15f-479e-b913-1b7aa8da1f53",
   "metadata": {},
   "outputs": [
    {
     "name": "stdout",
     "output_type": "stream",
     "text": [
      "30\n",
      "45\n",
      "39\n",
      "28\n"
     ]
    }
   ],
   "source": [
    "x = [20,25,30, 45,89,39,100,28]\n",
    "for value in x:\n",
    "    if value > 25 and value < 60:\n",
    "        print(value)"
   ]
  },
  {
   "cell_type": "code",
   "execution_count": 198,
   "id": "8f62d567-d799-4ec5-ba53-5135bd102946",
   "metadata": {},
   "outputs": [
    {
     "name": "stdout",
     "output_type": "stream",
     "text": [
      "33 You are a dumb\n",
      "45 Pass\n",
      "54 Second Class\n",
      "59 Second Class\n",
      "62 First Class\n",
      "69 First Class\n",
      "72 Distinction\n",
      "99 Distinction\n"
     ]
    }
   ],
   "source": [
    "#Program_3 Using nested If and elif in relation to one variable implicitly\n",
    "\n",
    "student_scores=[33,45,54,59,62,69,72,99]\n",
    "for marks in student_scores:\n",
    "    if marks >= 60:\n",
    "        if marks >= 70:\n",
    "            print(marks, \"Distinction\")\n",
    "\n",
    "        else:\n",
    "            print(marks, \"First Class\")\n",
    "\n",
    "    elif 50 < marks < 60:\n",
    "        print(marks, \"Second Class\")\n",
    "\n",
    "    elif marks >=40 and marks <= 50:\n",
    "        print(marks, \"Pass\")\n",
    "\n",
    "    else:\n",
    "        print(marks, \"You are a dumb\")"
   ]
  },
  {
   "cell_type": "code",
   "execution_count": 6,
   "id": "3857f4aa-3b40-4a79-aa19-ca4f7e0d988a",
   "metadata": {},
   "outputs": [
    {
     "name": "stdout",
     "output_type": "stream",
     "text": [
      "33 You are fail\n",
      "45 Pass\n",
      "54 Second Class\n",
      "59 Second Class\n",
      "62 Merit\n",
      "69 Merit\n",
      "72 Distinction\n",
      "99 Distinction\n"
     ]
    }
   ],
   "source": [
    "student_scores=[33,45,54,59,62,69,72,99]\n",
    "for marks in student_scores:\n",
    "    if marks > 60:\n",
    "        if marks > 70:\n",
    "            print(marks, \"Distinction\")\n",
    "        else:\n",
    "            print(marks, \"Merit\")\n",
    "\n",
    "    elif 50 < marks < 60:\n",
    "        print(marks, \"Second Class\")\n",
    "\n",
    "    elif 40 < marks < 50:\n",
    "        print(marks, \"Pass\")\n",
    "    else:\n",
    "         print(marks, \"You are fail\")\n",
    "\n",
    "    "
   ]
  },
  {
   "cell_type": "code",
   "execution_count": 5,
   "id": "347190b5-9943-4f8b-ab4f-8423c4e4fd09",
   "metadata": {},
   "outputs": [
    {
     "data": {
      "text/plain": [
       "[100, 200, 300, 400, 500, 600, 700, 800, 900]"
      ]
     },
     "execution_count": 5,
     "metadata": {},
     "output_type": "execute_result"
    }
   ],
   "source": [
    "x = list(range(100,1000,100))\n",
    "x        "
   ]
  },
  {
   "cell_type": "code",
   "execution_count": 10,
   "id": "25d08590-e526-4a85-b8be-5d5ef8c74875",
   "metadata": {},
   "outputs": [
    {
     "data": {
      "text/plain": [
       "[100, 200, 300, 400]"
      ]
     },
     "execution_count": 10,
     "metadata": {},
     "output_type": "execute_result"
    }
   ],
   "source": [
    "#LIST COMPREHENSION \n",
    "# sal = [value for value in salary if value < 500]"
   ]
  },
  {
   "cell_type": "code",
   "execution_count": 11,
   "id": "d4c03554-5daa-4218-b0d3-18aeb2dc9acc",
   "metadata": {},
   "outputs": [
    {
     "data": {
      "text/plain": [
       "[100, 200, 300, 400]"
      ]
     },
     "execution_count": 11,
     "metadata": {},
     "output_type": "execute_result"
    }
   ],
   "source": [
    "salary = [100, 200, 300, 400, 500, 600, 700, 800, 900]\n",
    "sal = [value for value in salary if value < 500]\n",
    "sal"
   ]
  },
  {
   "cell_type": "code",
   "execution_count": null,
   "id": "9be0d5af-4049-40de-9055-43c5cdca91af",
   "metadata": {},
   "outputs": [],
   "source": [
    "#FOR LOOP WITH ELSE"
   ]
  },
  {
   "cell_type": "code",
   "execution_count": 27,
   "id": "4ae400c9-d383-492a-9238-465803fd60b5",
   "metadata": {},
   "outputs": [
    {
     "name": "stdout",
     "output_type": "stream",
     "text": [
      "The muliplication table for 15\n",
      "15 x 1 = 15\n",
      "15 x 2 = 30\n",
      "15 x 3 = 45\n",
      "15 x 4 = 60\n",
      "15 x 5 = 75\n",
      "15 x 6 = 90\n",
      "15 x 7 = 105\n",
      "15 x 8 = 120\n",
      "15 x 9 = 135\n",
      "15 x 10 = 150\n",
      "\n",
      "\n",
      "The muliplication table for 16\n",
      "16 x 1 = 16\n",
      "16 x 2 = 32\n",
      "16 x 3 = 48\n",
      "16 x 4 = 64\n",
      "16 x 5 = 80\n",
      "16 x 6 = 96\n",
      "16 x 7 = 112\n",
      "16 x 8 = 128\n",
      "16 x 9 = 144\n",
      "16 x 10 = 160\n",
      "\n",
      "\n",
      "The muliplication table for 17\n",
      "17 x 1 = 17\n",
      "17 x 2 = 34\n",
      "17 x 3 = 51\n",
      "17 x 4 = 68\n",
      "17 x 5 = 85\n",
      "17 x 6 = 102\n",
      "17 x 7 = 119\n",
      "17 x 8 = 136\n",
      "17 x 9 = 153\n",
      "17 x 10 = 170\n",
      "\n",
      "\n",
      "The muliplication table for 18\n",
      "18 x 1 = 18\n",
      "18 x 2 = 36\n",
      "18 x 3 = 54\n",
      "18 x 4 = 72\n",
      "18 x 5 = 90\n",
      "18 x 6 = 108\n",
      "18 x 7 = 126\n",
      "18 x 8 = 144\n",
      "18 x 9 = 162\n",
      "18 x 10 = 180\n",
      "\n",
      "\n",
      "The muliplication table for 19\n",
      "19 x 1 = 19\n",
      "19 x 2 = 38\n",
      "19 x 3 = 57\n",
      "19 x 4 = 76\n",
      "19 x 5 = 95\n",
      "19 x 6 = 114\n",
      "19 x 7 = 133\n",
      "19 x 8 = 152\n",
      "19 x 9 = 171\n",
      "19 x 10 = 190\n",
      "\n",
      "\n",
      "##############################\n",
      "       END OF TABLE      \n",
      "##############################\n"
     ]
    }
   ],
   "source": [
    "for num in range(15,20):\n",
    "    print(\"The muliplication table for\", num)\n",
    "    \n",
    "    for i in range(1,11):\n",
    "        print(num, \"x\", i,\"=\", num * i)\n",
    "        if i==10:\n",
    "            print(\"\\n\")\n",
    "# to print the footer at the bottom of the table            \n",
    "else:\n",
    "    print(\"#\" * 30)\n",
    "    print( \"       END OF TABLE      \")\n",
    "    print(\"#\" * 30)"
   ]
  },
  {
   "cell_type": "code",
   "execution_count": null,
   "id": "bf5f2af6-aa96-46fd-bb9a-3e84fe53b6cf",
   "metadata": {},
   "outputs": [],
   "source": [
    "#Writing \"Saqib\" multiple time using while loop"
   ]
  },
  {
   "cell_type": "code",
   "execution_count": 38,
   "id": "6907d02b-bd8c-404b-b7df-358eff334df3",
   "metadata": {},
   "outputs": [
    {
     "name": "stdout",
     "output_type": "stream",
     "text": [
      "1    Saqib\n",
      "2    Saqib\n",
      "3    Saqib\n",
      "4    Saqib\n",
      "5    Saqib\n",
      "6    Saqib\n",
      "7    Saqib\n",
      "8    Saqib\n",
      "9    Saqib\n",
      "10    Saqib\n"
     ]
    }
   ],
   "source": [
    "i = 0\n",
    "while i < 10:\n",
    "    i = i + 1\n",
    "    print(i, \"   Saqib\")\n",
    "        "
   ]
  },
  {
   "cell_type": "code",
   "execution_count": 42,
   "id": "174497cd-1368-4e77-a9a5-b57286009bf8",
   "metadata": {},
   "outputs": [
    {
     "data": {
      "text/plain": [
       "time.struct_time(tm_year=2024, tm_mon=4, tm_mday=29, tm_hour=1, tm_min=49, tm_sec=54, tm_wday=0, tm_yday=120, tm_isdst=1)"
      ]
     },
     "execution_count": 42,
     "metadata": {},
     "output_type": "execute_result"
    }
   ],
   "source": [
    "import time\n",
    "result = time.localtime()\n",
    "result"
   ]
  },
  {
   "cell_type": "code",
   "execution_count": 50,
   "id": "9342fb60-f840-43c1-9f1d-733d208947eb",
   "metadata": {},
   "outputs": [
    {
     "name": "stdout",
     "output_type": "stream",
     "text": [
      "Wake up Call\n"
     ]
    }
   ],
   "source": [
    "while True:\n",
    "    result=time.localtime()\n",
    "    if result.tm_hour==1 and result.tm_min==59:\n",
    "        print(\"Wake up Call\")\n",
    "        break"
   ]
  },
  {
   "cell_type": "code",
   "execution_count": 52,
   "id": "c458b73d-5997-43bb-b5eb-d605254aaeb8",
   "metadata": {},
   "outputs": [
    {
     "data": {
      "text/plain": [
       "1.6"
      ]
     },
     "execution_count": 52,
     "metadata": {},
     "output_type": "execute_result"
    }
   ],
   "source": [
    "8/5"
   ]
  },
  {
   "cell_type": "code",
   "execution_count": 53,
   "id": "436ac633-6d66-44a0-a162-b8498d90a5d0",
   "metadata": {},
   "outputs": [
    {
     "data": {
      "text/plain": [
       "5.666666666666667"
      ]
     },
     "execution_count": 53,
     "metadata": {},
     "output_type": "execute_result"
    }
   ],
   "source": [
    "17/3"
   ]
  },
  {
   "cell_type": "code",
   "execution_count": 54,
   "id": "46dac6ff-0eaa-4bbf-8849-93623f3f86a3",
   "metadata": {},
   "outputs": [
    {
     "data": {
      "text/plain": [
       "5"
      ]
     },
     "execution_count": 54,
     "metadata": {},
     "output_type": "execute_result"
    }
   ],
   "source": [
    "17//3"
   ]
  },
  {
   "cell_type": "code",
   "execution_count": 55,
   "id": "55458433-075a-4435-86c3-ffb070b5f132",
   "metadata": {},
   "outputs": [
    {
     "data": {
      "text/plain": [
       "2"
      ]
     },
     "execution_count": 55,
     "metadata": {},
     "output_type": "execute_result"
    }
   ],
   "source": [
    "17 % 3"
   ]
  },
  {
   "cell_type": "code",
   "execution_count": 56,
   "id": "922dbcf2-d022-4010-9ac9-17f8bb473136",
   "metadata": {},
   "outputs": [
    {
     "data": {
      "text/plain": [
       "25"
      ]
     },
     "execution_count": 56,
     "metadata": {},
     "output_type": "execute_result"
    }
   ],
   "source": [
    "5**2"
   ]
  },
  {
   "cell_type": "code",
   "execution_count": 57,
   "id": "90a73bf6-85f8-4c67-815b-394985684676",
   "metadata": {},
   "outputs": [
    {
     "data": {
      "text/plain": [
       "14"
      ]
     },
     "execution_count": 57,
     "metadata": {},
     "output_type": "execute_result"
    }
   ],
   "source": [
    "2*7"
   ]
  },
  {
   "cell_type": "code",
   "execution_count": 58,
   "id": "04d82a07-69f3-4be0-bb4d-fa96ad72431d",
   "metadata": {},
   "outputs": [
    {
     "data": {
      "text/plain": [
       "128"
      ]
     },
     "execution_count": 58,
     "metadata": {},
     "output_type": "execute_result"
    }
   ],
   "source": [
    "2**7"
   ]
  },
  {
   "cell_type": "code",
   "execution_count": 72,
   "id": "f92406e6-ac64-4e3a-be13-ba72a239b496",
   "metadata": {},
   "outputs": [
    {
     "name": "stdout",
     "output_type": "stream",
     "text": [
      "Width W = 20\n",
      "Hight H = 45\n",
      "A = W * H\n",
      "A is Area of Rectangle = 900\n"
     ]
    }
   ],
   "source": [
    "W=20;\n",
    "H=5*9;\n",
    "print(\"Width W =\", W)\n",
    "print(\"Hight H =\", H)\n",
    "print(\"A\", \"=\", \"W\", \"*\" , \"H\")\n",
    "print(\"A is \" \"Area of Rectangle =\",A)\n"
   ]
  },
  {
   "cell_type": "code",
   "execution_count": 9,
   "id": "1fbd9e04-093a-4074-bece-02444f5156af",
   "metadata": {},
   "outputs": [
    {
     "name": "stdout",
     "output_type": "stream",
     "text": [
      "(1+2j)\n"
     ]
    }
   ],
   "source": [
    "z= complex(1,2)\n",
    "print(z)"
   ]
  },
  {
   "cell_type": "code",
   "execution_count": 11,
   "id": "35e22b57-7863-4e3a-8f55-f9274506483e",
   "metadata": {},
   "outputs": [
    {
     "name": "stdout",
     "output_type": "stream",
     "text": [
      "0\n",
      "1\n",
      "2\n",
      "3\n",
      "4\n",
      "5\n",
      "6\n",
      "7\n",
      "8\n",
      "9\n"
     ]
    }
   ],
   "source": [
    "a=range(10)\n",
    "for x in a:\n",
    "    print(x)"
   ]
  },
  {
   "cell_type": "markdown",
   "id": "9f681b1e-ef7b-4411-b731-23e13e4c89e2",
   "metadata": {},
   "source": [
    "# Programme to print tables\n",
    "\n",
    "#for num in range(15,20):\n",
    "    print(\"The muliplication table for\", num)\n",
    "    \n",
    "    for i in range(1,11):\n",
    "        print(num, \"x\", i,\"=\", num * i)\n",
    "        if i==10:\n",
    "            print(\"\\n\")\n",
    "# to print the footer at the bottom of the table            \n",
    "else:\n",
    "    print(\"#\" * 30)\n",
    "    print( \"       END OF TABLE      \")\n",
    "    print(\"#\" * 30)for a in range(5,65,5):\n",
    "    print(a)\n",
    "    if i==range(10):\n",
    "        print(\"5 x\",i, \"=\",a*i)\n",
    "        "
   ]
  },
  {
   "cell_type": "code",
   "execution_count": 49,
   "id": "a7103e25-b2b1-49ea-a53f-88b8f8077c4c",
   "metadata": {},
   "outputs": [
    {
     "name": "stdout",
     "output_type": "stream",
     "text": [
      "Multiplication table 2\n",
      "2 x 1    = 2 2\n",
      "2 x 2    = 2 4\n",
      "2 x 3    = 2 6\n",
      "2 x 4    = 2 8\n",
      "2 x 5    = 2 10\n",
      "2 x 6    = 2 12\n",
      "2 x 7    = 2 14\n",
      "2 x 8    = 2 16\n",
      "2 x 9    = 2 18\n",
      "2 x 10    = 2 20\n",
      "\n",
      "\n",
      "Multiplication table 3\n",
      "3 x 1    = 3 3\n",
      "3 x 2    = 3 6\n",
      "3 x 3    = 3 9\n",
      "3 x 4    = 3 12\n",
      "3 x 5    = 3 15\n",
      "3 x 6    = 3 18\n",
      "3 x 7    = 3 21\n",
      "3 x 8    = 3 24\n",
      "3 x 9    = 3 27\n",
      "3 x 10    = 3 30\n",
      "\n",
      "\n",
      "Multiplication table 4\n",
      "4 x 1    = 4 4\n",
      "4 x 2    = 4 8\n",
      "4 x 3    = 4 12\n",
      "4 x 4    = 4 16\n",
      "4 x 5    = 4 20\n",
      "4 x 6    = 4 24\n",
      "4 x 7    = 4 28\n",
      "4 x 8    = 4 32\n",
      "4 x 9    = 4 36\n",
      "4 x 10    = 4 40\n",
      "\n",
      "\n"
     ]
    }
   ],
   "source": [
    "x=range(2,5)\n",
    "for a in x: # a=2,3,4\n",
    "    print(\"Multiplication table\", a)\n",
    "\n",
    "    for i in range(1,11):\n",
    "        print(a,\"x\",i,\"   =\", a, a*i)\n",
    "        if i==10:\n",
    "            print(\"\\n\")\n",
    "            \n",
    "    "
   ]
  },
  {
   "cell_type": "code",
   "execution_count": 72,
   "id": "61cbd13a-11ca-41ff-aa62-b2a6f9e2ee2f",
   "metadata": {},
   "outputs": [
    {
     "name": "stdout",
     "output_type": "stream",
     "text": [
      "Multiplication table for - 2\n"
     ]
    },
    {
     "ename": "NameError",
     "evalue": "name 'p' is not defined",
     "output_type": "error",
     "traceback": [
      "\u001b[1;31m---------------------------------------------------------------------------\u001b[0m",
      "\u001b[1;31mNameError\u001b[0m                                 Traceback (most recent call last)",
      "Cell \u001b[1;32mIn[72], line 5\u001b[0m\n\u001b[0;32m      2\u001b[0m \u001b[38;5;28;01mfor\u001b[39;00m n \u001b[38;5;129;01min\u001b[39;00m x:\n\u001b[0;32m      3\u001b[0m     \u001b[38;5;28mprint\u001b[39m(\u001b[38;5;124m\"\u001b[39m\u001b[38;5;124mMultiplication table for -\u001b[39m\u001b[38;5;124m\"\u001b[39m, n)\n\u001b[1;32m----> 5\u001b[0m     \u001b[38;5;28;01mfor\u001b[39;00m i \u001b[38;5;129;01min\u001b[39;00m \u001b[38;5;28mrange\u001b[39m(p):\n\u001b[0;32m      6\u001b[0m         \u001b[38;5;28;01mif\u001b[39;00m p\u001b[38;5;241m==\u001b[39m\u001b[38;5;28mrange\u001b[39m(\u001b[38;5;241m10\u001b[39m):\n\u001b[0;32m      7\u001b[0m             \u001b[38;5;28mprint\u001b[39m(n,\u001b[38;5;124m\"\u001b[39m\u001b[38;5;124mx\u001b[39m\u001b[38;5;124m\"\u001b[39m, p, \u001b[38;5;124m\"\u001b[39m\u001b[38;5;124m=\u001b[39m\u001b[38;5;124m\"\u001b[39m, n\u001b[38;5;241m*\u001b[39mi)\n",
      "\u001b[1;31mNameError\u001b[0m: name 'p' is not defined"
     ]
    }
   ],
   "source": [
    "x = range (2,5)\n",
    "for n in x:\n",
    "    print(\"Multiplication table for -\", n)\n",
    "\n",
    "    for i in range(p):\n",
    "        if p==range(10):\n",
    "            print(n,\"x\", p, \"=\", n*i)\n",
    "            if i==10:\n",
    "                print(\"\\n\")"
   ]
  },
  {
   "cell_type": "code",
   "execution_count": 73,
   "id": "9bd45a64-ebd6-48ff-b0bb-7ce8172effb2",
   "metadata": {},
   "outputs": [
    {
     "name": "stdout",
     "output_type": "stream",
     "text": [
      "Multiplication Table for 1:\n",
      "2 * 1 = 2\n",
      "3 * 1 = 3\n",
      "4 * 1 = 4\n",
      "5 * 1 = 5\n",
      "\n",
      "Multiplication Table for 2:\n",
      "2 * 2 = 4\n",
      "3 * 2 = 6\n",
      "4 * 2 = 8\n",
      "5 * 2 = 10\n",
      "\n",
      "Multiplication Table for 3:\n",
      "2 * 3 = 6\n",
      "3 * 3 = 9\n",
      "4 * 3 = 12\n",
      "5 * 3 = 15\n",
      "\n",
      "Multiplication Table for 4:\n",
      "2 * 4 = 8\n",
      "3 * 4 = 12\n",
      "4 * 4 = 16\n",
      "5 * 4 = 20\n",
      "\n",
      "Multiplication Table for 5:\n",
      "2 * 5 = 10\n",
      "3 * 5 = 15\n",
      "4 * 5 = 20\n",
      "5 * 5 = 25\n",
      "\n",
      "Multiplication Table for 6:\n",
      "2 * 6 = 12\n",
      "3 * 6 = 18\n",
      "4 * 6 = 24\n",
      "5 * 6 = 30\n",
      "\n",
      "Multiplication Table for 7:\n",
      "2 * 7 = 14\n",
      "3 * 7 = 21\n",
      "4 * 7 = 28\n",
      "5 * 7 = 35\n",
      "\n",
      "Multiplication Table for 8:\n",
      "2 * 8 = 16\n",
      "3 * 8 = 24\n",
      "4 * 8 = 32\n",
      "5 * 8 = 40\n",
      "\n",
      "Multiplication Table for 9:\n",
      "2 * 9 = 18\n",
      "3 * 9 = 27\n",
      "4 * 9 = 36\n",
      "5 * 9 = 45\n",
      "\n",
      "Multiplication Table for 10:\n",
      "2 * 10 = 20\n",
      "3 * 10 = 30\n",
      "4 * 10 = 40\n",
      "5 * 10 = 50\n",
      "\n"
     ]
    }
   ],
   "source": [
    "for i in range(1, 11):  # Loop for the 10 multiples\n",
    "    print(f\"Multiplication Table for {i}:\")\n",
    "    for j in range(2, 6):  # Loop for numbers from 2 to 5\n",
    "        print(f\"{j} * {i} = {j*i}\")\n",
    "    print()  # Empty line for separation between tables"
   ]
  },
  {
   "cell_type": "code",
   "execution_count": 74,
   "id": "591920cc-8497-4d6a-ba64-093357b4c79c",
   "metadata": {},
   "outputs": [
    {
     "name": "stdout",
     "output_type": "stream",
     "text": [
      "Multiplication Table for 2:\n",
      "1 * 2 = 2\n",
      "2 * 2 = 4\n",
      "3 * 2 = 6\n",
      "4 * 2 = 8\n",
      "5 * 2 = 10\n",
      "6 * 2 = 12\n",
      "7 * 2 = 14\n",
      "8 * 2 = 16\n",
      "9 * 2 = 18\n",
      "10 * 2 = 20\n",
      "\n",
      "Multiplication Table for 3:\n",
      "1 * 3 = 3\n",
      "2 * 3 = 6\n",
      "3 * 3 = 9\n",
      "4 * 3 = 12\n",
      "5 * 3 = 15\n",
      "6 * 3 = 18\n",
      "7 * 3 = 21\n",
      "8 * 3 = 24\n",
      "9 * 3 = 27\n",
      "10 * 3 = 30\n",
      "\n",
      "Multiplication Table for 4:\n",
      "1 * 4 = 4\n",
      "2 * 4 = 8\n",
      "3 * 4 = 12\n",
      "4 * 4 = 16\n",
      "5 * 4 = 20\n",
      "6 * 4 = 24\n",
      "7 * 4 = 28\n",
      "8 * 4 = 32\n",
      "9 * 4 = 36\n",
      "10 * 4 = 40\n",
      "\n",
      "Multiplication Table for 5:\n",
      "1 * 5 = 5\n",
      "2 * 5 = 10\n",
      "3 * 5 = 15\n",
      "4 * 5 = 20\n",
      "5 * 5 = 25\n",
      "6 * 5 = 30\n",
      "7 * 5 = 35\n",
      "8 * 5 = 40\n",
      "9 * 5 = 45\n",
      "10 * 5 = 50\n",
      "\n"
     ]
    }
   ],
   "source": [
    "for i in range(2,6):  # Loop for the 10 multiples\n",
    "    print(f\"Multiplication Table for {i}:\")\n",
    "    for j in range(1, 11):  # Loop for numbers from 2 to 5\n",
    "        print(f\"{j} * {i} = {j*i}\")\n",
    "    print()  # Empty line for separation between tables"
   ]
  },
  {
   "cell_type": "code",
   "execution_count": 78,
   "id": "af8521b4-1866-4422-afbd-0b2438c205d5",
   "metadata": {},
   "outputs": [
    {
     "ename": "IndentationError",
     "evalue": "unexpected indent (1738731447.py, line 6)",
     "output_type": "error",
     "traceback": [
      "\u001b[1;36m  Cell \u001b[1;32mIn[78], line 6\u001b[1;36m\u001b[0m\n\u001b[1;33m    print(i,\"x\", j,\" i * j)\u001b[0m\n\u001b[1;37m    ^\u001b[0m\n\u001b[1;31mIndentationError\u001b[0m\u001b[1;31m:\u001b[0m unexpected indent\n"
     ]
    }
   ],
   "source": [
    "x= range(2,5)\n",
    "for i in x:\n",
    "    print(\"multiplication table of -\", i)\n",
    "\n",
    "    y= range(1,11)\n",
    "    for j in y:\n",
    "        print(i,\"x\", j,\" i * j)\n",
    "    print(\"\\n\")\n",
    "    \n"
   ]
  },
  {
   "cell_type": "code",
   "execution_count": 79,
   "id": "ed0c135b-7d33-4c92-81da-cc77d35efac3",
   "metadata": {},
   "outputs": [
    {
     "name": "stdout",
     "output_type": "stream",
     "text": [
      "Multiplication table of - 2\n",
      "2 x 1 = 2\n",
      "2 x 2 = 4\n",
      "2 x 3 = 6\n",
      "2 x 4 = 8\n",
      "2 x 5 = 10\n",
      "2 x 6 = 12\n",
      "2 x 7 = 14\n",
      "2 x 8 = 16\n",
      "2 x 9 = 18\n",
      "2 x 10 = 20\n",
      "\n",
      "Multiplication table of - 3\n",
      "3 x 1 = 3\n",
      "3 x 2 = 6\n",
      "3 x 3 = 9\n",
      "3 x 4 = 12\n",
      "3 x 5 = 15\n",
      "3 x 6 = 18\n",
      "3 x 7 = 21\n",
      "3 x 8 = 24\n",
      "3 x 9 = 27\n",
      "3 x 10 = 30\n",
      "\n",
      "Multiplication table of - 4\n",
      "4 x 1 = 4\n",
      "4 x 2 = 8\n",
      "4 x 3 = 12\n",
      "4 x 4 = 16\n",
      "4 x 5 = 20\n",
      "4 x 6 = 24\n",
      "4 x 7 = 28\n",
      "4 x 8 = 32\n",
      "4 x 9 = 36\n",
      "4 x 10 = 40\n",
      "\n",
      "Multiplication table of - 5\n",
      "5 x 1 = 5\n",
      "5 x 2 = 10\n",
      "5 x 3 = 15\n",
      "5 x 4 = 20\n",
      "5 x 5 = 25\n",
      "5 x 6 = 30\n",
      "5 x 7 = 35\n",
      "5 x 8 = 40\n",
      "5 x 9 = 45\n",
      "5 x 10 = 50\n",
      "\n"
     ]
    }
   ],
   "source": [
    "x = range(2, 6)  # Corrected the range to include 5\n",
    "for i in x:\n",
    "    print(\"Multiplication table of -\", i)\n",
    "    y = range(1, 11)\n",
    "    for j in y:\n",
    "        print(i, \"x\", j, \"=\", i * j)  # Corrected the print statement\n",
    "    print()  # Added an empty line for separation between tables"
   ]
  },
  {
   "cell_type": "code",
   "execution_count": 88,
   "id": "a6138851-8725-4abe-aac0-b219efb957e6",
   "metadata": {},
   "outputs": [
    {
     "name": "stdout",
     "output_type": "stream",
     "text": [
      "multiplication table of - 2\n",
      "2 x 1 = 2\n",
      "2 x 2 = 4\n",
      "2 x 3 = 6\n",
      "2 x 4 = 8\n",
      "2 x 5 = 10\n",
      "2 x 6 = 12\n",
      "2 x 7 = 14\n",
      "2 x 8 = 16\n",
      "2 x 9 = 18\n",
      "2 x 10 = 20\n",
      "\n",
      "multiplication table of - 3\n",
      "3 x 1 = 3\n",
      "3 x 2 = 6\n",
      "3 x 3 = 9\n",
      "3 x 4 = 12\n",
      "3 x 5 = 15\n",
      "3 x 6 = 18\n",
      "3 x 7 = 21\n",
      "3 x 8 = 24\n",
      "3 x 9 = 27\n",
      "3 x 10 = 30\n",
      "\n",
      "multiplication table of - 4\n",
      "4 x 1 = 4\n",
      "4 x 2 = 8\n",
      "4 x 3 = 12\n",
      "4 x 4 = 16\n",
      "4 x 5 = 20\n",
      "4 x 6 = 24\n",
      "4 x 7 = 28\n",
      "4 x 8 = 32\n",
      "4 x 9 = 36\n",
      "4 x 10 = 40\n",
      "\n"
     ]
    }
   ],
   "source": [
    "x= range(2,5)\n",
    "for i in x:\n",
    "    print(\"multiplication table of -\", i)\n",
    "    y= range(1,11)\n",
    "    for j in y:\n",
    "        print(i,\"x\", j, \"=\", i * j)\n",
    "    print()"
   ]
  },
  {
   "cell_type": "code",
   "execution_count": 92,
   "id": "3b4b257d-7ac5-44a9-bd71-323766ad4613",
   "metadata": {},
   "outputs": [
    {
     "name": "stdout",
     "output_type": "stream",
     "text": [
      "multiplication table of - 2\n",
      "2 x 1 = 2\n",
      "2 x 2 = 4\n",
      "2 x 3 = 6\n",
      "2 x 4 = 8\n",
      "2 x 5 = 10\n",
      "2 x 6 = 12\n",
      "2 x 7 = 14\n",
      "2 x 8 = 16\n",
      "2 x 9 = 18\n",
      "2 x 10 = 20\n",
      "\n",
      "multiplication table of - 3\n",
      "3 x 1 = 3\n",
      "3 x 2 = 6\n",
      "3 x 3 = 9\n",
      "3 x 4 = 12\n",
      "3 x 5 = 15\n",
      "3 x 6 = 18\n",
      "3 x 7 = 21\n",
      "3 x 8 = 24\n",
      "3 x 9 = 27\n",
      "3 x 10 = 30\n",
      "\n",
      "multiplication table of - 4\n",
      "4 x 1 = 4\n",
      "4 x 2 = 8\n",
      "4 x 3 = 12\n",
      "4 x 4 = 16\n",
      "4 x 5 = 20\n",
      "4 x 6 = 24\n",
      "4 x 7 = 28\n",
      "4 x 8 = 32\n",
      "4 x 9 = 36\n",
      "4 x 10 = 40\n",
      "\n"
     ]
    }
   ],
   "source": [
    "for x in range(2,5):\n",
    "    print(\"multiplication table of -\", x)\n",
    "\n",
    "    for y in range(1,11):\n",
    "        print(x,\"x\", y, \"=\", x * y)\n",
    "    print()"
   ]
  },
  {
   "cell_type": "code",
   "execution_count": null,
   "id": "42e2c1b0-5488-4bf1-af2c-0baab88c71eb",
   "metadata": {},
   "outputs": [],
   "source": [
    "#enumerate: The enumerate object yields pairs containing a count (from start, which defaults to zero) and a value yielded by the iterable argument."
   ]
  },
  {
   "cell_type": "code",
   "execution_count": 3,
   "id": "23048b1b-22fa-424b-8bcb-36752b6c1efc",
   "metadata": {},
   "outputs": [
    {
     "name": "stdout",
     "output_type": "stream",
     "text": [
      "(0, 'Abida')\n",
      "(1, 'Abeera')\n",
      "(2, 'Osman')\n",
      "(3, 'Umer')\n",
      "(4, 'Mahirah')\n"
     ]
    }
   ],
   "source": [
    "students=['Abida', 'Abeera', 'Osman', 'Umer', 'Mahirah']\n",
    "for name in enumerate(students):\n",
    "    print(name)"
   ]
  },
  {
   "cell_type": "code",
   "execution_count": 9,
   "id": "17a896d1-aaae-4e07-bfac-435fc218d9a4",
   "metadata": {},
   "outputs": [
    {
     "name": "stdout",
     "output_type": "stream",
     "text": [
      "(100, 'Abida')\n",
      "(101, 'Abeera')\n",
      "(102, 'Osman')\n",
      "(103, 'Umer')\n",
      "(104, 'Mahirah')\n"
     ]
    }
   ],
   "source": [
    "students=['Abida', 'Abeera', 'Osman', 'Umer', 'Mahirah']\n",
    "for name in enumerate(students,100):\n",
    "    print(name)"
   ]
  },
  {
   "cell_type": "markdown",
   "id": "b430fcdc-f2c1-42c0-95fd-574ada0b2611",
   "metadata": {},
   "source": [
    "# ZIP"
   ]
  },
  {
   "cell_type": "code",
   "execution_count": 12,
   "id": "822615bf-65b7-498f-959f-7b222b5c0793",
   "metadata": {},
   "outputs": [
    {
     "data": {
      "text/plain": [
       "[('Abida', 100),\n",
       " ('Abeera', 120),\n",
       " ('Osman', 140),\n",
       " ('Umer', 160),\n",
       " ('Mahirah', 180)]"
      ]
     },
     "execution_count": 12,
     "metadata": {},
     "output_type": "execute_result"
    }
   ],
   "source": [
    "Students=['Abida', 'Abeera', 'Osman', 'Umer', 'Mahirah']\n",
    "Student_Marks=list(range(100,200,20))\n",
    "student_details=list(zip(Students,Student_Marks))\n",
    "student_details"
   ]
  },
  {
   "cell_type": "markdown",
   "id": "bad3bb35-d279-4057-a130-c9687210d8e9",
   "metadata": {},
   "source": [
    "# UNZIP"
   ]
  },
  {
   "cell_type": "code",
   "execution_count": 21,
   "id": "21858de4-91d4-42ea-afd0-ab796fa58998",
   "metadata": {},
   "outputs": [
    {
     "data": {
      "text/plain": [
       "('Abida', 'Abeera', 'Osman', 'Umer', 'Mahirah')"
      ]
     },
     "execution_count": 21,
     "metadata": {},
     "output_type": "execute_result"
    }
   ],
   "source": [
    "name,marks=zip(*student_details)\n",
    "name"
   ]
  },
  {
   "cell_type": "code",
   "execution_count": 22,
   "id": "c94383cf-0a84-4230-9c16-ae70ba41b246",
   "metadata": {},
   "outputs": [
    {
     "data": {
      "text/plain": [
       "(100, 120, 140, 160, 180)"
      ]
     },
     "execution_count": 22,
     "metadata": {},
     "output_type": "execute_result"
    }
   ],
   "source": [
    "name,marks=zip(*student_details)\n",
    "marks"
   ]
  },
  {
   "cell_type": "markdown",
   "id": "a828647e-f88b-41a3-ab8f-69b4bceccc51",
   "metadata": {},
   "source": [
    "# BREAK AND CONTINUE"
   ]
  },
  {
   "cell_type": "code",
   "execution_count": 25,
   "id": "87957254-259a-4f63-8275-bd4a5c71df8f",
   "metadata": {},
   "outputs": [
    {
     "name": "stdout",
     "output_type": "stream",
     "text": [
      "Osman\n"
     ]
    }
   ],
   "source": [
    "Students=['Abida', 'Abeera', 'Osman', 'Umer', 'Mahirah']\n",
    "for name in Students:\n",
    "    if name == \"Osman\":\n",
    "        print(name)"
   ]
  },
  {
   "cell_type": "code",
   "execution_count": 29,
   "id": "f7d61d3f-830b-4707-b9cb-4bd605c102ed",
   "metadata": {},
   "outputs": [
    {
     "name": "stdout",
     "output_type": "stream",
     "text": [
      "Abida\n",
      "Abeera\n",
      "Osman\n",
      "Umer\n"
     ]
    }
   ],
   "source": [
    "Students=['Abida', 'Abeera', 'Osman', 'Umer', 'Mahirah']\n",
    "for name in Students:\n",
    "    if name == \"Mahirah\":\n",
    "        break\n",
    "    print(name)"
   ]
  },
  {
   "cell_type": "code",
   "execution_count": 42,
   "id": "146d4f77-67db-4ef9-b1d1-96309a33f32b",
   "metadata": {},
   "outputs": [
    {
     "name": "stdout",
     "output_type": "stream",
     "text": [
      "10000\n",
      "11000\n",
      "12000\n",
      "13000\n",
      "14000\n",
      "15000\n"
     ]
    }
   ],
   "source": [
    "salary=list(range(10000,20000,1000))\n",
    "for val in salary:\n",
    "    if val<=15000:\n",
    "        print(val)        "
   ]
  },
  {
   "cell_type": "code",
   "execution_count": 44,
   "id": "0c48f37a-5184-494b-bb15-a35e6acd9b7a",
   "metadata": {},
   "outputs": [
    {
     "name": "stdout",
     "output_type": "stream",
     "text": [
      "10000\n",
      "11000\n",
      "12000\n",
      "13000\n",
      "14000\n"
     ]
    }
   ],
   "source": [
    "salary=list(range(10000,20000,1000))\n",
    "for val in salary:\n",
    "    if val==15000:\n",
    "        break\n",
    "    print(val)   "
   ]
  },
  {
   "cell_type": "code",
   "execution_count": 47,
   "id": "5f7a5d44-e572-462a-bd78-4a7c1e13e1b5",
   "metadata": {},
   "outputs": [
    {
     "name": "stdout",
     "output_type": "stream",
     "text": [
      "10000\n",
      "11000\n",
      "12000\n",
      "13000\n",
      "14000\n",
      "15000\n"
     ]
    }
   ],
   "source": [
    "salary=list(range(10000,20000,1000))\n",
    "for val in salary:\n",
    "    if val>15000:\n",
    "        break\n",
    "    print(val) "
   ]
  },
  {
   "cell_type": "code",
   "execution_count": 77,
   "id": "faf5ae09-923c-4e9a-b6dd-b18ad9ea3456",
   "metadata": {},
   "outputs": [
    {
     "name": "stdout",
     "output_type": "stream",
     "text": [
      "10000\n",
      "11000\n",
      "12000\n",
      "13000\n",
      "5000\n",
      "15000\n",
      "16000\n",
      "17000\n",
      "2500\n",
      "19000\n",
      "20000\n",
      "25000\n"
     ]
    }
   ],
   "source": [
    "salary=[10000, 11000, 12000, 13000, 5000, 15000, 16000, 17000, 2500, 19000,20000,25000,30000]\n",
    "for val in salary:\n",
    "    if val >= 30000:\n",
    "        break\n",
    "    print(val)"
   ]
  },
  {
   "cell_type": "code",
   "execution_count": 2,
   "id": "d8264c84-6702-47a2-8afa-e0d6bbaa75f3",
   "metadata": {},
   "outputs": [
    {
     "name": "stdout",
     "output_type": "stream",
     "text": [
      "10000\n",
      "11000\n",
      "12000\n",
      "13000\n",
      "5000\n",
      "15000\n",
      "16000\n",
      "17000\n",
      "2500\n",
      "19000\n",
      "20000\n",
      "25000\n"
     ]
    },
    {
     "ename": "NameError",
     "evalue": "name 'Continue' is not defined",
     "output_type": "error",
     "traceback": [
      "\u001b[1;31m---------------------------------------------------------------------------\u001b[0m",
      "\u001b[1;31mNameError\u001b[0m                                 Traceback (most recent call last)",
      "Cell \u001b[1;32mIn[2], line 4\u001b[0m\n\u001b[0;32m      2\u001b[0m \u001b[38;5;28;01mfor\u001b[39;00m val \u001b[38;5;129;01min\u001b[39;00m salary:\n\u001b[0;32m      3\u001b[0m     \u001b[38;5;28;01mif\u001b[39;00m val \u001b[38;5;241m>\u001b[39m\u001b[38;5;241m=\u001b[39m \u001b[38;5;241m30000\u001b[39m:\n\u001b[1;32m----> 4\u001b[0m         Continue\n\u001b[0;32m      5\u001b[0m     \u001b[38;5;28mprint\u001b[39m(val)\n",
      "\u001b[1;31mNameError\u001b[0m: name 'Continue' is not defined"
     ]
    }
   ],
   "source": [
    "salary=[10000, 11000, 12000, 13000, 5000, 15000, 16000, 17000, 2500, 19000,20000,25000,30000]\n",
    "for val in salary:\n",
    "    if val >= 30000:\n",
    "        Continue\n",
    "    print(val)"
   ]
  },
  {
   "cell_type": "code",
   "execution_count": 79,
   "id": "53ad78dd-4d62-4108-bffc-c1084e13eaca",
   "metadata": {},
   "outputs": [],
   "source": [
    "def greeeting(name):\n",
    "    print(\"Hello    \", name)        "
   ]
  },
  {
   "cell_type": "code",
   "execution_count": 86,
   "id": "26f4535f-ac79-463e-bad9-494a3b28f7a8",
   "metadata": {},
   "outputs": [
    {
     "name": "stdout",
     "output_type": "stream",
     "text": [
      "Hello     Abida\n"
     ]
    }
   ],
   "source": [
    "greeeting(\"Abida\")"
   ]
  },
  {
   "cell_type": "code",
   "execution_count": 3,
   "id": "4d69cc45-8378-468c-bf01-b9d82a46f80e",
   "metadata": {},
   "outputs": [],
   "source": [
    "def gmarks(marks):\n",
    "    if marks==33:\n",
    "        return (marks+2)\n",
    "    elif marks==34:\n",
    "        return (marks+1)\n",
    "    else:\n",
    "        return marks"
   ]
  },
  {
   "cell_type": "code",
   "execution_count": 18,
   "id": "d36c76c1-e3a6-4c03-ba03-8ede985c9c35",
   "metadata": {},
   "outputs": [],
   "source": [
    "score=[31,32,33,34,35,50]"
   ]
  },
  {
   "cell_type": "code",
   "execution_count": 19,
   "id": "7e3f99fb-a7a7-4e20-9eef-a698f1e0bdb8",
   "metadata": {},
   "outputs": [
    {
     "name": "stdout",
     "output_type": "stream",
     "text": [
      "[31, 32, 35, 35, 35, 50]\n"
     ]
    }
   ],
   "source": [
    "total=list(map(gmarks,score))\n",
    "print(total)"
   ]
  },
  {
   "cell_type": "code",
   "execution_count": 2,
   "id": "8cb53d61-c29c-4054-b1ec-3ac52dcf26c7",
   "metadata": {},
   "outputs": [],
   "source": [
    "import numpy as np"
   ]
  },
  {
   "cell_type": "code",
   "execution_count": null,
   "id": "a15d8c37-e56d-4bc6-873d-f6334dc01413",
   "metadata": {},
   "outputs": [],
   "source": []
  }
 ],
 "metadata": {
  "kernelspec": {
   "display_name": "Python 3 (ipykernel)",
   "language": "python",
   "name": "python3"
  },
  "language_info": {
   "codemirror_mode": {
    "name": "ipython",
    "version": 3
   },
   "file_extension": ".py",
   "mimetype": "text/x-python",
   "name": "python",
   "nbconvert_exporter": "python",
   "pygments_lexer": "ipython3",
   "version": "3.11.7"
  }
 },
 "nbformat": 4,
 "nbformat_minor": 5
}
