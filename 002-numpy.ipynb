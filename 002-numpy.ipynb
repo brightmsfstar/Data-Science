{
 "cells": [
  {
   "cell_type": "code",
   "execution_count": 3,
   "id": "24b84f31-5643-431c-845b-a1dbd6ae03c0",
   "metadata": {},
   "outputs": [],
   "source": [
    "import numpy as np"
   ]
  },
  {
   "cell_type": "code",
   "execution_count": 6,
   "id": "025c0835-4fea-4067-9480-c9a5fbca2335",
   "metadata": {},
   "outputs": [
    {
     "data": {
      "text/plain": [
       "39"
      ]
     },
     "execution_count": 6,
     "metadata": {},
     "output_type": "execute_result"
    }
   ],
   "source": [
    "np.dot([3,4],[5,6])"
   ]
  },
  {
   "cell_type": "code",
   "execution_count": 10,
   "id": "54010cdb-7edc-4079-a9e5-1b9ba22085c6",
   "metadata": {
    "scrolled": true
   },
   "outputs": [
    {
     "name": "stdout",
     "output_type": "stream",
     "text": [
      "['ALLOW_THREADS', 'BUFSIZE', 'CLIP', 'DataSource', 'ERR_CALL', 'ERR_DEFAULT', 'ERR_IGNORE', 'ERR_LOG', 'ERR_PRINT', 'ERR_RAISE', 'ERR_WARN', 'FLOATING_POINT_SUPPORT', 'FPE_DIVIDEBYZERO', 'FPE_INVALID', 'FPE_OVERFLOW', 'FPE_UNDERFLOW', 'False_', 'Inf', 'Infinity', 'MAXDIMS', 'MAY_SHARE_BOUNDS', 'MAY_SHARE_EXACT', 'NAN', 'NINF', 'NZERO', 'NaN', 'PINF', 'PZERO', 'RAISE', 'RankWarning', 'SHIFT_DIVIDEBYZERO', 'SHIFT_INVALID', 'SHIFT_OVERFLOW', 'SHIFT_UNDERFLOW', 'ScalarType', 'True_', 'UFUNC_BUFSIZE_DEFAULT', 'UFUNC_PYVALS_NAME', 'WRAP', '_CopyMode', '_NoValue', '_UFUNC_API', '__NUMPY_SETUP__', '__all__', '__builtins__', '__cached__', '__config__', '__deprecated_attrs__', '__dir__', '__doc__', '__expired_functions__', '__file__', '__former_attrs__', '__future_scalars__', '__getattr__', '__loader__', '__name__', '__package__', '__path__', '__spec__', '__version__', '_add_newdoc_ufunc', '_builtins', '_distributor_init', '_financial_names', '_get_promotion_state', '_globals', '_int_extended_msg', '_mat', '_no_nep50_warning', '_pyinstaller_hooks_dir', '_pytesttester', '_set_promotion_state', '_specific_msg', '_typing', '_using_numpy2_behavior', '_utils', 'abs', 'absolute', 'add', 'add_docstring', 'add_newdoc', 'add_newdoc_ufunc', 'all', 'allclose', 'alltrue', 'amax', 'amin', 'angle', 'any', 'append', 'apply_along_axis', 'apply_over_axes', 'arange', 'arccos', 'arccosh', 'arcsin', 'arcsinh', 'arctan', 'arctan2', 'arctanh', 'argmax', 'argmin', 'argpartition', 'argsort', 'argwhere', 'around', 'array', 'array2string', 'array_equal', 'array_equiv', 'array_repr', 'array_split', 'array_str', 'asanyarray', 'asarray', 'asarray_chkfinite', 'ascontiguousarray', 'asfarray', 'asfortranarray', 'asmatrix', 'atleast_1d', 'atleast_2d', 'atleast_3d', 'average', 'bartlett', 'base_repr', 'binary_repr', 'bincount', 'bitwise_and', 'bitwise_not', 'bitwise_or', 'bitwise_xor', 'blackman', 'block', 'bmat', 'bool_', 'broadcast', 'broadcast_arrays', 'broadcast_shapes', 'broadcast_to', 'busday_count', 'busday_offset', 'busdaycalendar', 'byte', 'byte_bounds', 'bytes_', 'c_', 'can_cast', 'cast', 'cbrt', 'cdouble', 'ceil', 'cfloat', 'char', 'character', 'chararray', 'choose', 'clip', 'clongdouble', 'clongfloat', 'column_stack', 'common_type', 'compare_chararrays', 'compat', 'complex128', 'complex64', 'complex_', 'complexfloating', 'compress', 'concatenate', 'conj', 'conjugate', 'convolve', 'copy', 'copysign', 'copyto', 'corrcoef', 'correlate', 'cos', 'cosh', 'count_nonzero', 'cov', 'cross', 'csingle', 'ctypeslib', 'cumprod', 'cumproduct', 'cumsum', 'datetime64', 'datetime_as_string', 'datetime_data', 'deg2rad', 'degrees', 'delete', 'deprecate', 'deprecate_with_doc', 'diag', 'diag_indices', 'diag_indices_from', 'diagflat', 'diagonal', 'diff', 'digitize', 'disp', 'divide', 'divmod', 'dot', 'double', 'dsplit', 'dstack', 'dtype', 'dtypes', 'e', 'ediff1d', 'einsum', 'einsum_path', 'emath', 'empty', 'empty_like', 'equal', 'errstate', 'euler_gamma', 'exceptions', 'exp', 'exp2', 'expand_dims', 'expm1', 'extract', 'eye', 'fabs', 'fastCopyAndTranspose', 'fft', 'fill_diagonal', 'find_common_type', 'finfo', 'fix', 'flatiter', 'flatnonzero', 'flexible', 'flip', 'fliplr', 'flipud', 'float16', 'float32', 'float64', 'float_', 'float_power', 'floating', 'floor', 'floor_divide', 'fmax', 'fmin', 'fmod', 'format_float_positional', 'format_float_scientific', 'format_parser', 'frexp', 'from_dlpack', 'frombuffer', 'fromfile', 'fromfunction', 'fromiter', 'frompyfunc', 'fromregex', 'fromstring', 'full', 'full_like', 'gcd', 'generic', 'genfromtxt', 'geomspace', 'get_array_wrap', 'get_include', 'get_printoptions', 'getbufsize', 'geterr', 'geterrcall', 'geterrobj', 'gradient', 'greater', 'greater_equal', 'half', 'hamming', 'hanning', 'heaviside', 'histogram', 'histogram2d', 'histogram_bin_edges', 'histogramdd', 'hsplit', 'hstack', 'hypot', 'i0', 'identity', 'iinfo', 'imag', 'in1d', 'index_exp', 'indices', 'inexact', 'inf', 'info', 'infty', 'inner', 'insert', 'int16', 'int32', 'int64', 'int8', 'int_', 'intc', 'integer', 'interp', 'intersect1d', 'intp', 'invert', 'is_busday', 'isclose', 'iscomplex', 'iscomplexobj', 'isfinite', 'isfortran', 'isin', 'isinf', 'isnan', 'isnat', 'isneginf', 'isposinf', 'isreal', 'isrealobj', 'isscalar', 'issctype', 'issubclass_', 'issubdtype', 'issubsctype', 'iterable', 'ix_', 'kaiser', 'kron', 'lcm', 'ldexp', 'left_shift', 'less', 'less_equal', 'lexsort', 'lib', 'linalg', 'linspace', 'little_endian', 'load', 'loadtxt', 'log', 'log10', 'log1p', 'log2', 'logaddexp', 'logaddexp2', 'logical_and', 'logical_not', 'logical_or', 'logical_xor', 'logspace', 'longcomplex', 'longdouble', 'longfloat', 'longlong', 'lookfor', 'ma', 'mask_indices', 'mat', 'matmul', 'matrix', 'max', 'maximum', 'maximum_sctype', 'may_share_memory', 'mean', 'median', 'memmap', 'meshgrid', 'mgrid', 'min', 'min_scalar_type', 'minimum', 'mintypecode', 'mod', 'modf', 'moveaxis', 'msort', 'multiply', 'nan', 'nan_to_num', 'nanargmax', 'nanargmin', 'nancumprod', 'nancumsum', 'nanmax', 'nanmean', 'nanmedian', 'nanmin', 'nanpercentile', 'nanprod', 'nanquantile', 'nanstd', 'nansum', 'nanvar', 'nbytes', 'ndarray', 'ndenumerate', 'ndim', 'ndindex', 'nditer', 'negative', 'nested_iters', 'newaxis', 'nextafter', 'nonzero', 'not_equal', 'numarray', 'number', 'obj2sctype', 'object_', 'ogrid', 'oldnumeric', 'ones', 'ones_like', 'outer', 'packbits', 'pad', 'partition', 'percentile', 'pi', 'piecewise', 'place', 'poly', 'poly1d', 'polyadd', 'polyder', 'polydiv', 'polyfit', 'polyint', 'polymul', 'polynomial', 'polysub', 'polyval', 'positive', 'power', 'printoptions', 'prod', 'product', 'promote_types', 'ptp', 'put', 'put_along_axis', 'putmask', 'quantile', 'r_', 'rad2deg', 'radians', 'random', 'ravel', 'ravel_multi_index', 'real', 'real_if_close', 'rec', 'recarray', 'recfromcsv', 'recfromtxt', 'reciprocal', 'record', 'remainder', 'repeat', 'require', 'reshape', 'resize', 'result_type', 'right_shift', 'rint', 'roll', 'rollaxis', 'roots', 'rot90', 'round', 'round_', 'row_stack', 's_', 'safe_eval', 'save', 'savetxt', 'savez', 'savez_compressed', 'sctype2char', 'sctypeDict', 'sctypes', 'searchsorted', 'select', 'set_numeric_ops', 'set_printoptions', 'set_string_function', 'setbufsize', 'setdiff1d', 'seterr', 'seterrcall', 'seterrobj', 'setxor1d', 'shape', 'shares_memory', 'short', 'show_config', 'show_runtime', 'sign', 'signbit', 'signedinteger', 'sin', 'sinc', 'single', 'singlecomplex', 'sinh', 'size', 'sometrue', 'sort', 'sort_complex', 'source', 'spacing', 'split', 'sqrt', 'square', 'squeeze', 'stack', 'std', 'str_', 'string_', 'subtract', 'sum', 'swapaxes', 'take', 'take_along_axis', 'tan', 'tanh', 'tensordot', 'test', 'testing', 'tile', 'timedelta64', 'trace', 'tracemalloc_domain', 'transpose', 'trapz', 'tri', 'tril', 'tril_indices', 'tril_indices_from', 'trim_zeros', 'triu', 'triu_indices', 'triu_indices_from', 'true_divide', 'trunc', 'typecodes', 'typename', 'ubyte', 'ufunc', 'uint', 'uint16', 'uint32', 'uint64', 'uint8', 'uintc', 'uintp', 'ulonglong', 'unicode_', 'union1d', 'unique', 'unpackbits', 'unravel_index', 'unsignedinteger', 'unwrap', 'ushort', 'vander', 'var', 'vdot', 'vectorize', 'version', 'void', 'vsplit', 'vstack', 'where', 'who', 'zeros', 'zeros_like']\n"
     ]
    }
   ],
   "source": [
    "print(dir(np))"
   ]
  },
  {
   "cell_type": "code",
   "execution_count": 13,
   "id": "89d65f24-7b64-43be-b3e5-1ff5e495ea5e",
   "metadata": {
    "scrolled": true
   },
   "outputs": [
    {
     "name": "stdout",
     "output_type": "stream",
     "text": [
      "minimum 24\n",
      "maximum 47\n"
     ]
    }
   ],
   "source": [
    "print(\"minimum\", np.amin([24,47,35,39]))\n",
    "\n",
    "print(\"maximum\", np.amax([24,47,35,39]))"
   ]
  },
  {
   "cell_type": "code",
   "execution_count": 14,
   "id": "a23650c0-f6cc-4c8b-b50d-362e1d5952ba",
   "metadata": {},
   "outputs": [
    {
     "data": {
      "text/plain": [
       "29.0"
      ]
     },
     "execution_count": 14,
     "metadata": {},
     "output_type": "execute_result"
    }
   ],
   "source": [
    "np.ceil(28.1)"
   ]
  },
  {
   "cell_type": "code",
   "execution_count": 15,
   "id": "159c99fe-d55e-4cb2-a50c-a569f7351ad7",
   "metadata": {},
   "outputs": [
    {
     "data": {
      "text/plain": [
       "6.0"
      ]
     },
     "execution_count": 15,
     "metadata": {},
     "output_type": "execute_result"
    }
   ],
   "source": [
    "np.ceil(np.sqrt(np.square(5.5)))"
   ]
  },
  {
   "cell_type": "code",
   "execution_count": 17,
   "id": "7062f50d-95ca-436f-b393-c3e4b7688d13",
   "metadata": {},
   "outputs": [],
   "source": [
    "#help(np) is to call for help"
   ]
  },
  {
   "cell_type": "code",
   "execution_count": 18,
   "id": "58dc3d05-9bc3-425e-82c3-e47a888ba66e",
   "metadata": {},
   "outputs": [
    {
     "data": {
      "text/plain": [
       "array([ 5,  9, 13])"
      ]
     },
     "execution_count": 18,
     "metadata": {},
     "output_type": "execute_result"
    }
   ],
   "source": [
    "x=np.array([5, 9, 13])\n",
    "x"
   ]
  },
  {
   "cell_type": "code",
   "execution_count": 19,
   "id": "6000685d-454e-46a3-9d58-b83a2a8d852b",
   "metadata": {},
   "outputs": [
    {
     "name": "stdout",
     "output_type": "stream",
     "text": [
      "[ 5  9 13]\n"
     ]
    }
   ],
   "source": [
    "print(x)"
   ]
  },
  {
   "cell_type": "code",
   "execution_count": 21,
   "id": "1298248f-0c7e-4c0b-b83c-2777ebf05f12",
   "metadata": {},
   "outputs": [
    {
     "data": {
      "text/plain": [
       "numpy.ndarray"
      ]
     },
     "execution_count": 21,
     "metadata": {},
     "output_type": "execute_result"
    }
   ],
   "source": [
    "type(x)"
   ]
  },
  {
   "cell_type": "code",
   "execution_count": 22,
   "id": "3b23e936-3212-43a3-b140-99c3af6b4e0d",
   "metadata": {},
   "outputs": [
    {
     "name": "stdout",
     "output_type": "stream",
     "text": [
      "[ 5  9 13]\n"
     ]
    }
   ],
   "source": [
    "#copy array into other\n",
    "y=np.asarray(x)\n",
    "print(y)"
   ]
  },
  {
   "cell_type": "code",
   "execution_count": 24,
   "id": "d417d7dd-8423-474f-b509-20fa527fd9bd",
   "metadata": {},
   "outputs": [
    {
     "name": "stdout",
     "output_type": "stream",
     "text": [
      "[ 5  9 13]\n"
     ]
    }
   ],
   "source": [
    "z=np.copy(y)\n",
    "print(z)"
   ]
  },
  {
   "cell_type": "code",
   "execution_count": 25,
   "id": "d2d8638e-1e23-454e-921f-174b5816c743",
   "metadata": {},
   "outputs": [
    {
     "data": {
      "text/plain": [
       "array([ 5.,  9., 13.])"
      ]
     },
     "execution_count": 25,
     "metadata": {},
     "output_type": "execute_result"
    }
   ],
   "source": [
    "#data type conversion in numpy\n",
    "\n",
    "np.array((x),dtype=float)"
   ]
  },
  {
   "cell_type": "code",
   "execution_count": 27,
   "id": "0a220789-4e54-4c3e-81db-03ecd7066b6e",
   "metadata": {},
   "outputs": [
    {
     "name": "stdout",
     "output_type": "stream",
     "text": [
      "[ 5  9 13]\n"
     ]
    }
   ],
   "source": [
    "print(y)"
   ]
  },
  {
   "cell_type": "code",
   "execution_count": 28,
   "id": "bc25e146-1644-4061-be6e-75c9aa121609",
   "metadata": {},
   "outputs": [
    {
     "name": "stdout",
     "output_type": "stream",
     "text": [
      "[ 5  9 13]\n"
     ]
    }
   ],
   "source": [
    "print(x)"
   ]
  },
  {
   "cell_type": "code",
   "execution_count": 31,
   "id": "45c5196e-6b66-491a-bf17-5b37af8a45bd",
   "metadata": {},
   "outputs": [
    {
     "data": {
      "text/plain": [
       "numpy.ndarray"
      ]
     },
     "execution_count": 31,
     "metadata": {},
     "output_type": "execute_result"
    }
   ],
   "source": [
    "type(x)"
   ]
  },
  {
   "cell_type": "code",
   "execution_count": 32,
   "id": "93190703-173e-4ced-a538-a56196152f91",
   "metadata": {},
   "outputs": [
    {
     "data": {
      "text/plain": [
       "array([ 5,  9, 13])"
      ]
     },
     "execution_count": 32,
     "metadata": {},
     "output_type": "execute_result"
    }
   ],
   "source": [
    "x"
   ]
  },
  {
   "cell_type": "code",
   "execution_count": 39,
   "id": "fbe442c3-2a1c-4a4f-af5a-495fd8e0ce8d",
   "metadata": {},
   "outputs": [],
   "source": [
    "matrix_A=[[1,2,3],[4,5,6],[7,8,9]]"
   ]
  },
  {
   "cell_type": "code",
   "execution_count": 34,
   "id": "4a2e7153-67c9-45e6-b792-d3a526b5ea24",
   "metadata": {},
   "outputs": [
    {
     "name": "stdout",
     "output_type": "stream",
     "text": [
      "[[1, 2, 3], [4, 5, 6], [7, 8, 9]]\n"
     ]
    }
   ],
   "source": [
    "print(A)"
   ]
  },
  {
   "cell_type": "code",
   "execution_count": 35,
   "id": "c17757e9-7f3d-43d6-bd62-ba549ec9e8a4",
   "metadata": {},
   "outputs": [
    {
     "data": {
      "text/plain": [
       "dtype('int32')"
      ]
     },
     "execution_count": 35,
     "metadata": {},
     "output_type": "execute_result"
    }
   ],
   "source": [
    "x.dtype"
   ]
  },
  {
   "cell_type": "code",
   "execution_count": 38,
   "id": "1ddd4678-85b3-4de8-aa2c-2c213df74812",
   "metadata": {},
   "outputs": [
    {
     "data": {
      "text/plain": [
       "list"
      ]
     },
     "execution_count": 38,
     "metadata": {},
     "output_type": "execute_result"
    }
   ],
   "source": [
    "type(matrix_A)"
   ]
  },
  {
   "cell_type": "code",
   "execution_count": 41,
   "id": "59bf7ffb-0690-4fb2-a54a-d0bc59c3e22e",
   "metadata": {},
   "outputs": [
    {
     "data": {
      "text/plain": [
       "list"
      ]
     },
     "execution_count": 41,
     "metadata": {},
     "output_type": "execute_result"
    }
   ],
   "source": [
    "type(matrix_A)"
   ]
  },
  {
   "cell_type": "code",
   "execution_count": 42,
   "id": "a1e036f9-6035-490b-abf2-e523673493c1",
   "metadata": {},
   "outputs": [],
   "source": [
    "A=np.array(matrix_A)"
   ]
  },
  {
   "cell_type": "code",
   "execution_count": 43,
   "id": "3aebf545-a3a1-41b2-ac51-ec053cae88f6",
   "metadata": {},
   "outputs": [
    {
     "name": "stdout",
     "output_type": "stream",
     "text": [
      "[[1 2 3]\n",
      " [4 5 6]\n",
      " [7 8 9]]\n"
     ]
    }
   ],
   "source": [
    "print(A)"
   ]
  },
  {
   "cell_type": "code",
   "execution_count": 44,
   "id": "650684c4-5e1e-4fe5-b9c4-4963eacdd079",
   "metadata": {},
   "outputs": [
    {
     "data": {
      "text/plain": [
       "numpy.ndarray"
      ]
     },
     "execution_count": 44,
     "metadata": {},
     "output_type": "execute_result"
    }
   ],
   "source": [
    "type(A)"
   ]
  },
  {
   "cell_type": "code",
   "execution_count": 45,
   "id": "5f286e31-4cd6-4fb0-a004-347ae45d47ad",
   "metadata": {},
   "outputs": [
    {
     "data": {
      "text/plain": [
       "2"
      ]
     },
     "execution_count": 45,
     "metadata": {},
     "output_type": "execute_result"
    }
   ],
   "source": [
    "A.ndim"
   ]
  },
  {
   "cell_type": "code",
   "execution_count": 47,
   "id": "42ce22a4-71b5-404a-9614-a1f63c220cf3",
   "metadata": {},
   "outputs": [
    {
     "data": {
      "text/plain": [
       "9"
      ]
     },
     "execution_count": 47,
     "metadata": {},
     "output_type": "execute_result"
    }
   ],
   "source": [
    "A.size"
   ]
  },
  {
   "cell_type": "code",
   "execution_count": 48,
   "id": "5dc32783-cec3-4ff0-9be2-bb5bf5266eb8",
   "metadata": {},
   "outputs": [
    {
     "data": {
      "text/plain": [
       "(3, 3)"
      ]
     },
     "execution_count": 48,
     "metadata": {},
     "output_type": "execute_result"
    }
   ],
   "source": [
    "A.shape"
   ]
  },
  {
   "cell_type": "code",
   "execution_count": 49,
   "id": "45a0d93a-2c22-4bb7-833c-369727ced952",
   "metadata": {},
   "outputs": [
    {
     "data": {
      "text/plain": [
       "dtype('int32')"
      ]
     },
     "execution_count": 49,
     "metadata": {},
     "output_type": "execute_result"
    }
   ],
   "source": [
    "A.dtype"
   ]
  },
  {
   "cell_type": "code",
   "execution_count": 56,
   "id": "9ca96bbf-ed32-41d4-a803-6f0faa2f7a61",
   "metadata": {},
   "outputs": [
    {
     "data": {
      "text/plain": [
       "(array([[1, 2, 3],\n",
       "        [4, 5, 6],\n",
       "        [7, 8, 9]]),\n",
       " float)"
      ]
     },
     "execution_count": 56,
     "metadata": {},
     "output_type": "execute_result"
    }
   ],
   "source": [
    "(A, dtype:=float)"
   ]
  },
  {
   "cell_type": "code",
   "execution_count": 57,
   "id": "7c60e780-2f82-4586-b327-58049c254ab7",
   "metadata": {},
   "outputs": [
    {
     "ename": "TypeError",
     "evalue": "'float' object cannot be interpreted as an integer",
     "output_type": "error",
     "traceback": [
      "\u001b[1;31m---------------------------------------------------------------------------\u001b[0m",
      "\u001b[1;31mTypeError\u001b[0m                                 Traceback (most recent call last)",
      "Cell \u001b[1;32mIn[57], line 5\u001b[0m\n\u001b[0;32m      1\u001b[0m \u001b[38;5;66;03m# parametrs of range in python were start, stop and stepsize\u001b[39;00m\n\u001b[0;32m      2\u001b[0m \u001b[38;5;66;03m# What is the restriction in the python range? Python range cannot generate float data.\u001b[39;00m\n\u001b[0;32m      3\u001b[0m \u001b[38;5;66;03m# In numpy range, float data can be generated.\u001b[39;00m\n\u001b[1;32m----> 5\u001b[0m \u001b[38;5;28mlist\u001b[39m(\u001b[38;5;28mrange\u001b[39m(\u001b[38;5;241m2\u001b[39m,\u001b[38;5;241m5.4\u001b[39m, \u001b[38;5;241m.3\u001b[39m))\n",
      "\u001b[1;31mTypeError\u001b[0m: 'float' object cannot be interpreted as an integer"
     ]
    }
   ],
   "source": [
    "# parametrs of range in python were start, stop and stepsize\n",
    "# What is the restriction in the python range? Python range cannot generate float data.\n",
    "# In numpy range, float data can be generated.\n",
    "\n",
    "list(range(2,5.4, .3))\n",
    "# we can see below error on the python range in generating float means decimal data"
   ]
  },
  {
   "cell_type": "code",
   "execution_count": 58,
   "id": "46154e93-5323-414e-ac2c-a8b272ea01e3",
   "metadata": {},
   "outputs": [],
   "source": [
    "a=np.arange(2,5.3,.3)"
   ]
  },
  {
   "cell_type": "code",
   "execution_count": 59,
   "id": "59162fe5-44c9-40fc-8eaa-76220893e52c",
   "metadata": {},
   "outputs": [
    {
     "data": {
      "text/plain": [
       "array([2. , 2.3, 2.6, 2.9, 3.2, 3.5, 3.8, 4.1, 4.4, 4.7, 5. ])"
      ]
     },
     "execution_count": 59,
     "metadata": {},
     "output_type": "execute_result"
    }
   ],
   "source": [
    "a"
   ]
  },
  {
   "cell_type": "code",
   "execution_count": 60,
   "id": "3579c594-2b34-4bf7-8ddd-1cd1645dfedb",
   "metadata": {},
   "outputs": [
    {
     "data": {
      "text/plain": [
       "array([5. , 4.7, 4.4, 4.1, 3.8, 3.5, 3.2, 2.9, 2.6, 2.3, 2. ])"
      ]
     },
     "execution_count": 60,
     "metadata": {},
     "output_type": "execute_result"
    }
   ],
   "source": [
    "#reverse order\n",
    "a[::-1]"
   ]
  },
  {
   "cell_type": "code",
   "execution_count": 67,
   "id": "e00c9664-0883-42f9-b0db-88bf59e9c99f",
   "metadata": {},
   "outputs": [
    {
     "name": "stdout",
     "output_type": "stream",
     "text": [
      "Every 5h number in reverse order\n",
      " [50 45 40 35 30 25 20 15 10  5  0]\n"
     ]
    }
   ],
   "source": [
    "print(\"Every 5h number in reverse order\\n\",np.arange(50,-1,-5))"
   ]
  },
  {
   "cell_type": "code",
   "execution_count": 68,
   "id": "61cf23c9-da05-4585-b8ba-b389b4d76cb5",
   "metadata": {},
   "outputs": [
    {
     "name": "stdout",
     "output_type": "stream",
     "text": [
      "[10.  17.5 25.  32.5 40. ]\n"
     ]
    }
   ],
   "source": [
    "# print(\"linearly spaced numbers betweeen 10 and 40\\n, it is different from range\n",
    "#print(np.linspace(10,40,num=5), which can be stated as \"I want 5 numbers which are equally spaced between 10 and 40.\n",
    "print(np.linspace(10,40,5))"
   ]
  },
  {
   "cell_type": "code",
   "execution_count": 70,
   "id": "35453f1f-c9b5-4c03-aefb-c586a020aa8c",
   "metadata": {},
   "outputs": [
    {
     "name": "stdout",
     "output_type": "stream",
     "text": [
      "(array([10. , 17.5, 25. , 32.5, 40. ]), 7.5)\n"
     ]
    }
   ],
   "source": [
    "print(np.linspace(10,40,5, retstep=True))"
   ]
  },
  {
   "cell_type": "markdown",
   "id": "0d9c293f-b128-4c1c-8a36-b9b4d6f86db1",
   "metadata": {},
   "source": [
    "# Matrix Creation"
   ]
  },
  {
   "cell_type": "code",
   "execution_count": 71,
   "id": "f36fa4d0-4bb5-498e-950a-82629867ea32",
   "metadata": {},
   "outputs": [
    {
     "name": "stdout",
     "output_type": "stream",
     "text": [
      "[0. 0. 0. 0. 0.]\n"
     ]
    }
   ],
   "source": [
    "print(np.zeros(5))"
   ]
  },
  {
   "cell_type": "code",
   "execution_count": 74,
   "id": "f71192cb-ed1b-48ab-b363-96921b36dac9",
   "metadata": {},
   "outputs": [
    {
     "name": "stdout",
     "output_type": "stream",
     "text": [
      "[[0. 0. 0.]\n",
      " [0. 0. 0.]\n",
      " [0. 0. 0.]]\n"
     ]
    }
   ],
   "source": [
    "#Creating \"NUll Matrix\" in numpy\n",
    "print(np.zeros((3,3)))"
   ]
  },
  {
   "cell_type": "code",
   "execution_count": 75,
   "id": "1491d1ef-9fb1-4cbd-84aa-1019a7739639",
   "metadata": {},
   "outputs": [
    {
     "name": "stdout",
     "output_type": "stream",
     "text": [
      "[[1. 1. 1.]\n",
      " [1. 1. 1.]\n",
      " [1. 1. 1.]]\n"
     ]
    }
   ],
   "source": [
    "#Creating \"Unity Matrix\" in numpy\n",
    "print(np.ones((3,3)))"
   ]
  },
  {
   "cell_type": "code",
   "execution_count": 80,
   "id": "1f66dba5-0afc-4bac-96e2-ecd877f5dbc8",
   "metadata": {},
   "outputs": [
    {
     "name": "stdout",
     "output_type": "stream",
     "text": [
      "[[5. 5. 5.]\n",
      " [5. 5. 5.]\n",
      " [5. 5. 5.]]\n"
     ]
    }
   ],
   "source": [
    "print(5*np.ones((3,3)))"
   ]
  },
  {
   "cell_type": "code",
   "execution_count": 83,
   "id": "451edb88-cebf-42a0-9f8f-11a1b495dc3f",
   "metadata": {},
   "outputs": [
    {
     "name": "stdout",
     "output_type": "stream",
     "text": [
      "[[ 0  1  2  3  4  5]\n",
      " [ 6  7  8  9 10 11]\n",
      " [12 13 14 15 16 17]\n",
      " [18 19 20 21 22 23]\n",
      " [24 25 26 27 28 29]]\n"
     ]
    }
   ],
   "source": [
    "# A matrix has been generated by using two functions, arange of 30 and reshape function has been used to arrange these numbers\n",
    "# into 5 rows and 6 columns\n",
    "x= np.arange(30).reshape(5,6)\n",
    "print(x)"
   ]
  },
  {
   "cell_type": "code",
   "execution_count": 87,
   "id": "08c171b0-f6d3-4beb-97f9-703fe2d32c29",
   "metadata": {},
   "outputs": [
    {
     "name": "stdout",
     "output_type": "stream",
     "text": [
      "[[ 0  1  2  3  4  5  6  7]\n",
      " [ 8  9 10 11 12 13 14 15]\n",
      " [16 17 18 19 20 21 22 23]\n",
      " [24 25 26 27 28 29 30 31]\n",
      " [32 33 34 35 36 37 38 39]]\n"
     ]
    }
   ],
   "source": [
    "x= np.arange(40).reshape(5,8)\n",
    "print(x)"
   ]
  },
  {
   "cell_type": "markdown",
   "id": "23c623bf-df59-4adb-b844-1b730d794be4",
   "metadata": {},
   "source": [
    "# Random Numbers Generation using"
   ]
  },
  {
   "cell_type": "markdown",
   "id": "dd8faf9f-ab46-4cbe-93d1-4fba8d0205b9",
   "metadata": {},
   "source": [
    "#There are three ways to generate randon numbers:\n",
    "#np.random.rand\n",
    "#np.random.randn\n",
    "#np.random.randint"
   ]
  },
  {
   "cell_type": "markdown",
   "id": "f40a0896-3b08-4270-b5c5-6fea3a9c500f",
   "metadata": {},
   "source": [
    "# rand function for Uniform distribution"
   ]
  },
  {
   "cell_type": "code",
   "execution_count": 88,
   "id": "643249f3-b81f-4204-9cf2-21a352e2aba7",
   "metadata": {},
   "outputs": [
    {
     "name": "stdout",
     "output_type": "stream",
     "text": [
      "[[0.49691604 0.00974039 0.20245833 0.46238122 0.79512025 0.63679784]\n",
      " [0.42854872 0.97874837 0.01911582 0.22753903 0.42511501 0.72150166]\n",
      " [0.67579431 0.53502732 0.95088202 0.20040244 0.2350568  0.83038229]\n",
      " [0.60033194 0.55079756 0.05135285 0.52152899 0.33271307 0.6636503 ]\n",
      " [0.56510161 0.97565417 0.86681102 0.63577454 0.08397592 0.79037621]\n",
      " [0.07089637 0.58483372 0.60194671 0.27929259 0.24616143 0.63083265]\n",
      " [0.91564334 0.25824674 0.62851002 0.72461895 0.66985126 0.56093864]\n",
      " [0.70446331 0.57845798 0.81928787 0.19909659 0.02880615 0.513699  ]\n",
      " [0.38504667 0.6402109  0.50989087 0.99714635 0.93681752 0.94946717]\n",
      " [0.82296013 0.23134325 0.34265742 0.94712401 0.11258844 0.61708018]]\n"
     ]
    }
   ],
   "source": [
    "#Features of \"np.random.rand\"\n",
    "np.random.seed(10)\n",
    "print(\"random number generation (from uniform distribution)\")\n",
    "# 1: They will all be +ve numbers, uniformly distributed, and all are between 0 and 1\n",
    "# 2: The randomness within the rand functions is governed by a parameter of rand function that is called \"seed\" number.\n",
    "# 3: For a defined seed numbers in generation of the random numbers every time we run the numbers will rmain same\n",
    "# 4: If we plot the graph of these random numbers will give us a graph of uniform distribution.\n",
    "print(np.random.rand(10,6))"
   ]
  },
  {
   "cell_type": "code",
   "execution_count": 91,
   "id": "23b3e04d-91cb-4df4-9ba7-fc5a2fd108ef",
   "metadata": {
    "scrolled": true
   },
   "outputs": [
    {
     "name": "stdout",
     "output_type": "stream",
     "text": [
      "random number generation (from uniform distribution)\n",
      "[[0.22199317 0.87073231 0.20671916 0.91861091 0.48841119 0.61174386]\n",
      " [0.76590786 0.51841799 0.2968005  0.18772123 0.08074127 0.7384403 ]\n",
      " [0.44130922 0.15830987 0.87993703 0.27408646 0.41423502 0.29607993]\n",
      " [0.62878791 0.57983781 0.5999292  0.26581912 0.28468588 0.25358821]\n",
      " [0.32756395 0.1441643  0.16561286 0.96393053 0.96022672 0.18841466]\n",
      " [0.02430656 0.20455555 0.69984361 0.77951459 0.02293309 0.57766286]\n",
      " [0.00164217 0.51547261 0.63979518 0.9856244  0.2590976  0.80249689]\n",
      " [0.87048309 0.92274961 0.00221421 0.46948837 0.98146874 0.3989448 ]\n",
      " [0.81373248 0.5464565  0.77085409 0.48493107 0.02911156 0.08652569]\n",
      " [0.11145381 0.25124511 0.96491529 0.63176605 0.8166602  0.566082  ]]\n"
     ]
    }
   ],
   "source": [
    "#Features of \"np.random.rand\"\n",
    "np.random.seed(5)\n",
    "print(\"random number generation (from uniform distribution)\")\n",
    "# 1: They will all be +ve numbers, uniformly distributed, and all are between 0 and 1\n",
    "# 2: The randomness within the rand functions is governed by a parameter of rand function that is called \"seed\" number.\n",
    "print(np.random.rand(10,6))"
   ]
  },
  {
   "cell_type": "code",
   "execution_count": 93,
   "id": "68603d60-a218-4f01-b3ec-4b479ab5c4f5",
   "metadata": {
    "scrolled": true
   },
   "outputs": [
    {
     "name": "stdout",
     "output_type": "stream",
     "text": [
      "random number generation (from uniform distribution)\n",
      "[[0.22199317 0.87073231 0.20671916]\n",
      " [0.91861091 0.48841119 0.61174386]\n",
      " [0.76590786 0.51841799 0.2968005 ]\n",
      " [0.18772123 0.08074127 0.7384403 ]\n",
      " [0.44130922 0.15830987 0.87993703]]\n"
     ]
    }
   ],
   "source": [
    "#Features of \"np.random.rand\"\n",
    "np.random.seed(5)\n",
    "print(\"random number generation (from uniform distribution)\")\n",
    "# 3: For a defined seed numbers in generation of the random numbers every time we run the numbers will rmain same\n",
    "# Here (5,3) represent a matrix of 5 rows and 3 columns, if you compare the number from above for the same seem number\n",
    "#you will clearly see that numbers for the same seed have not changed only the matrix size has changed.\n",
    "print(np.random.rand(5,3)) "
   ]
  },
  {
   "cell_type": "markdown",
   "id": "58b6020b-2f03-40a3-bc9f-64070b5ae3df",
   "metadata": {},
   "source": [
    "# randn function for normal distribution"
   ]
  },
  {
   "cell_type": "code",
   "execution_count": 89,
   "id": "85140493-00e8-408d-a69f-0226a8741e4a",
   "metadata": {
    "scrolled": true
   },
   "outputs": [
    {
     "name": "stdout",
     "output_type": "stream",
     "text": [
      "random number generation (from normal distribution with mean of Zero and standard deviation of 1)\n",
      "[[ 0.24126297 -1.59895539 -0.37195129  1.0887945  -0.02014361  1.27132924]\n",
      " [-3.43334441  1.42276913 -0.46427635  0.77342064  1.11116799 -0.61884593]\n",
      " [ 1.39337457  0.99570039  0.95526441 -0.28967271 -1.17827199 -0.21112738]\n",
      " [-0.44601423  0.64077877 -1.57944592 -2.09257196  0.30224568 -0.08581292]\n",
      " [ 0.22832378 -0.19245437 -0.49593949 -0.66339941  0.18308509  0.42716938]\n",
      " [-1.19135461 -0.95295469  0.50844826 -0.37823236  0.41453097 -0.61852285]\n",
      " [ 0.11678245 -0.99665765  0.25287203  1.15395084 -0.79665059 -0.96341037]\n",
      " [ 0.12388873  0.87570114  0.15337361 -0.33779921 -0.26228857  0.96973857]\n",
      " [ 0.73516293  1.30886302  1.19408867 -1.55343849 -0.59113424 -1.32821901]\n",
      " [ 0.62293345  1.55578752 -0.47873526  0.10782958  1.44215657  0.45987875]]\n"
     ]
    }
   ],
   "source": [
    "#Features of \"np.random.randn\"\n",
    "print(\"random number generation (from normal distribution with mean of Zero and standard deviation of 1)\")\n",
    "# 1: They will be +ve or -ve numbers, normally distributed between -1 and 1.\n",
    "# 2: This does not need any seed number\n",
    "# 3: If we plot the graph of these random numbers will give us a graph of normal distribution.\n",
    "print(np.random.randn(10,6))"
   ]
  },
  {
   "cell_type": "markdown",
   "id": "336de02b-132e-4041-9df9-142676d96b5a",
   "metadata": {},
   "source": [
    "# randint function\n",
    "# 1: rand function generate +ve numbers between 0 and 1.\n",
    "# 2: randn function generate both +ve and -ve numbers between -1 and +1. \n",
    "# 3: So in order to generate integers we need a functions knows as \"randint\""
   ]
  },
  {
   "cell_type": "code",
   "execution_count": 99,
   "id": "9480a834-c844-4e29-8bea-aa582aa0553a",
   "metadata": {},
   "outputs": [
    {
     "name": "stdout",
     "output_type": "stream",
     "text": [
      "Random integer vector : [933 935 811 739 863 401 538 104  24 996]\n"
     ]
    },
    {
     "data": {
      "text/plain": [
       "numpy.ndarray"
      ]
     },
     "execution_count": 99,
     "metadata": {},
     "output_type": "execute_result"
    }
   ],
   "source": [
    "a=np.random.randint(10,1000,10) # it will generate randomly an array of 10 numbers within a range of starting from 10 ending on 999, \n",
    "print(\"Random integer vector :\", a)\n",
    "type(a)"
   ]
  },
  {
   "cell_type": "code",
   "execution_count": 108,
   "id": "c752bc10-1199-4621-8617-d6f8e43c0303",
   "metadata": {},
   "outputs": [
    {
     "name": "stdout",
     "output_type": "stream",
     "text": [
      "[[ 921 6849 6410 6465 7785 4264 3781]\n",
      " [7920 4562 1573 4211 1112 5190 7421]\n",
      " [ 915  291 1055 3662 5730 4979 6174]\n",
      " [3842 8275 6165  234 2689 5027 9423]\n",
      " [9652 8267 5574 3067 5456 1206 5551]\n",
      " [ 155  598 1242 6903 6714 8422 5522]]\n"
     ]
    }
   ],
   "source": [
    "#using randint we can generate a matrix that will only have integers\n",
    "\n",
    "# Question here arise that I given a range from 1 to 10000 but how it determines the number of elements in matrix\n",
    "# Answer: by the size of or rank of the matrix means the number of elements should be 6x7=42\"\n",
    "\n",
    "A= np.random.randint(1,10000,(6,7)) \n",
    "print(A)\n"
   ]
  },
  {
   "cell_type": "markdown",
   "id": "eb4470ef-30f1-4f3d-978c-f9142cf023ae",
   "metadata": {},
   "source": [
    "# Real life example of randint function in generation of OTP program"
   ]
  },
  {
   "cell_type": "code",
   "execution_count": 109,
   "id": "14b2df10-905a-4d9c-99ca-3b554f2206d6",
   "metadata": {},
   "outputs": [],
   "source": [
    "from numpy.random import randint as ri"
   ]
  },
  {
   "cell_type": "code",
   "execution_count": 112,
   "id": "8eebedb9-218d-42a0-b505-0dfb632a836e",
   "metadata": {},
   "outputs": [
    {
     "name": "stdout",
     "output_type": "stream",
     "text": [
      "your OTP is  [2137]\n"
     ]
    },
    {
     "name": "stdin",
     "output_type": "stream",
     "text": [
      "Enter OTP 2137\n"
     ]
    },
    {
     "name": "stdout",
     "output_type": "stream",
     "text": [
      "login success\n"
     ]
    }
   ],
   "source": [
    "def generate_otp():\n",
    "    otp1=ri(1000,10000,1)\n",
    "    print(\"your OTP is \", otp1)\n",
    "    user_otp = int(input(\"Enter OTP\"))\n",
    "    if otp1 == user_otp:\n",
    "        print(\"login success\")\n",
    "    else:\n",
    "        print(\"Invalid OTP, Generate new OTP\")\n",
    "\n",
    "generate_otp()"
   ]
  },
  {
   "cell_type": "markdown",
   "id": "8c03f549-01ff-4247-980b-80a70419fc8a",
   "metadata": {},
   "source": [
    "# Sorting"
   ]
  },
  {
   "cell_type": "code",
   "execution_count": 117,
   "id": "03c4b03a-941a-4056-94de-d52a901c93bb",
   "metadata": {},
   "outputs": [
    {
     "name": "stdout",
     "output_type": "stream",
     "text": [
      "\n",
      " 5x5 Matrix of random integers\n",
      " -------------------------------------------------- \n",
      " [[82 68 80 18 88]\n",
      " [12 31 27  9 52]\n",
      " [62 85 53 75 26]\n",
      " [10 32 40 60 23]\n",
      " [81 59 45 16 16]]\n",
      "\n",
      " here is the way to sort a matrix along each row\n",
      " -------------------------------------------------- \n",
      " [[18 68 80 82 88]\n",
      " [ 9 12 27 31 52]\n",
      " [26 53 62 75 85]\n",
      " [10 23 32 40 60]\n",
      " [16 16 45 59 81]]\n",
      "\n",
      " here is the way to sort a matrix along each column\n",
      " -------------------------------------------------- \n",
      " [[10 31 27  9 16]\n",
      " [12 32 40 16 23]\n",
      " [62 59 45 18 26]\n",
      " [81 68 53 60 52]\n",
      " [82 85 80 75 88]]\n"
     ]
    }
   ],
   "source": [
    "M= ri(1,100,25).reshape(5,5)\n",
    "print(\"\\n 5x5 Matrix of random integers\\n\", '-'*50, '\\n', M)\n",
    "print(\"\\n here is the way to sort a matrix along each row\\n\", '-'*50, \"\\n\", np.sort(M, axis=1)) # by default numpy sorts matrix on rows so axis not needed\n",
    "print(\"\\n here is the way to sort a matrix along each column\\n\", '-'*50, \"\\n\", np.sort(M, axis=0))"
   ]
  },
  {
   "cell_type": "code",
   "execution_count": 121,
   "id": "461aa481-b95d-4b9d-954c-2ba8539396a0",
   "metadata": {},
   "outputs": [
    {
     "name": "stdout",
     "output_type": "stream",
     "text": [
      "Minimum =  9 and Maximum =  88\n"
     ]
    }
   ],
   "source": [
    "print('Minimum = ', M.min(), 'and Maximum = ', M.max())"
   ]
  },
  {
   "cell_type": "markdown",
   "id": "940af977-9b57-43fc-a307-da5cb9d5a9c4",
   "metadata": {},
   "source": [
    "# numpy condition"
   ]
  },
  {
   "cell_type": "code",
   "execution_count": 123,
   "id": "9b7c78e8-02e9-40d9-9a2e-ecebd4859e59",
   "metadata": {},
   "outputs": [
    {
     "data": {
      "text/plain": [
       "array([59, 29, 57, 24, 40, 34, 38, 38, 37, 58])"
      ]
     },
     "execution_count": 123,
     "metadata": {},
     "output_type": "execute_result"
    }
   ],
   "source": [
    "salary = ri(8,70,10)\n",
    "salary"
   ]
  },
  {
   "cell_type": "code",
   "execution_count": 127,
   "id": "4cc615d9-1e38-41b5-ab1b-bd6c9434c32d",
   "metadata": {},
   "outputs": [
    {
     "name": "stdout",
     "output_type": "stream",
     "text": [
      "(array([1, 3, 5, 6, 7, 8], dtype=int64),)\n"
     ]
    }
   ],
   "source": [
    "print(np.where(salary<40)) # It generates the indicies of the location of numbers in the array but we want real data so see below"
   ]
  },
  {
   "cell_type": "code",
   "execution_count": 128,
   "id": "9a468343-89ec-4054-9a4b-a857d9e7f9ab",
   "metadata": {},
   "outputs": [
    {
     "data": {
      "text/plain": [
       "array([29, 24, 34, 38, 38, 37])"
      ]
     },
     "execution_count": 128,
     "metadata": {},
     "output_type": "execute_result"
    }
   ],
   "source": [
    "salary[np.where(salary<40)]"
   ]
  },
  {
   "cell_type": "code",
   "execution_count": 129,
   "id": "f9e171fb-e787-4258-9eb8-e1f2c45b394c",
   "metadata": {},
   "outputs": [
    {
     "data": {
      "text/plain": [
       "array([59, 29, 57, 24, 40, 34, 38, 38, 37, 58])"
      ]
     },
     "execution_count": 129,
     "metadata": {},
     "output_type": "execute_result"
    }
   ],
   "source": [
    "salary"
   ]
  },
  {
   "cell_type": "markdown",
   "id": "2c76fe3f-5f3c-4232-91ba-6f20744d3c91",
   "metadata": {},
   "source": [
    "# Clip function is used to round up or down to minimum or maximum values of the elements of the array respectively."
   ]
  },
  {
   "cell_type": "code",
   "execution_count": 131,
   "id": "41e5e32e-f634-4e55-bda7-5a5fd81ac9f1",
   "metadata": {},
   "outputs": [
    {
     "data": {
      "text/plain": [
       "array([59, 30, 57, 30, 40, 34, 38, 38, 37, 58])"
      ]
     },
     "execution_count": 131,
     "metadata": {},
     "output_type": "execute_result"
    }
   ],
   "source": [
    "# All values below 30 will be set to 30 and above 60 will be set to 60.\n",
    "\n",
    "np.clip(salary,a_min=30, a_max=60)"
   ]
  },
  {
   "cell_type": "markdown",
   "id": "ea6e5d3b-e40b-404c-9650-a7d4454ec379",
   "metadata": {},
   "source": [
    "Indexing and Slicing"
   ]
  },
  {
   "cell_type": "code",
   "execution_count": 134,
   "id": "3cc0f01a-c327-41e7-a79d-5327973b801b",
   "metadata": {},
   "outputs": [
    {
     "name": "stdout",
     "output_type": "stream",
     "text": [
      "[10 11 12 13 14 15 16 17 18 19 20 21 22 23 24 25 26 27 28 29 30 31 32 33\n",
      " 34 35 36 37 38 39]\n",
      "<class 'numpy.ndarray'>\n"
     ]
    }
   ],
   "source": [
    "c=np.arange(10,40)\n",
    "print(c)\n",
    "print(type(c))"
   ]
  },
  {
   "cell_type": "code",
   "execution_count": 137,
   "id": "145a2b31-454e-43a7-97f0-c9ea1907a413",
   "metadata": {},
   "outputs": [
    {
     "name": "stdout",
     "output_type": "stream",
     "text": [
      "array list of elements on the listed indicies [5, 9, 15] are : [15 19 25]\n"
     ]
    }
   ],
   "source": [
    "print(\"array list of elements on the listed indicies [5, 9, 15] are :\", c[[5, 9, 15]])"
   ]
  },
  {
   "cell_type": "code",
   "execution_count": 25,
   "id": "3c6fc1f4-425f-4a99-af34-e6d55ce1c1f2",
   "metadata": {
    "scrolled": true
   },
   "outputs": [
    {
     "name": "stdout",
     "output_type": "stream",
     "text": [
      "[[1 2 3]\n",
      " [4 5 6]\n",
      " [7 8 9]]\n"
     ]
    }
   ],
   "source": [
    "B = np.arange(1,10,1).reshape(3,3)\n",
    "print(B)"
   ]
  },
  {
   "cell_type": "code",
   "execution_count": 171,
   "id": "938bc067-9b68-458d-9d64-8811af47924b",
   "metadata": {},
   "outputs": [
    {
     "name": "stdout",
     "output_type": "stream",
     "text": [
      "6\n"
     ]
    }
   ],
   "source": [
    "print(B[1][2])"
   ]
  },
  {
   "cell_type": "code",
   "execution_count": 158,
   "id": "d3461073-01ee-438c-816f-1176de21f79d",
   "metadata": {},
   "outputs": [
    {
     "name": "stdout",
     "output_type": "stream",
     "text": [
      "[7 8 9]\n"
     ]
    }
   ],
   "source": [
    "print(B[2])"
   ]
  },
  {
   "cell_type": "code",
   "execution_count": 159,
   "id": "2181dfb5-161b-4d78-8c77-2c7e3f6f83bb",
   "metadata": {},
   "outputs": [
    {
     "name": "stdout",
     "output_type": "stream",
     "text": [
      "[4 5 6]\n"
     ]
    }
   ],
   "source": [
    "print(B[1])"
   ]
  },
  {
   "cell_type": "code",
   "execution_count": 168,
   "id": "ccaa6975-d166-48e8-8370-38cee4fdaf1b",
   "metadata": {},
   "outputs": [
    {
     "name": "stdout",
     "output_type": "stream",
     "text": [
      "[[5]]\n"
     ]
    }
   ],
   "source": [
    "print(B[1:2,1:2])"
   ]
  },
  {
   "cell_type": "code",
   "execution_count": 174,
   "id": "b6945f80-a4d7-4129-9002-d6218391874f",
   "metadata": {},
   "outputs": [
    {
     "name": "stdout",
     "output_type": "stream",
     "text": [
      "[[5 6]\n",
      " [8 9]]\n"
     ]
    }
   ],
   "source": [
    "print(B[1:3,1:3])"
   ]
  },
  {
   "cell_type": "code",
   "execution_count": 176,
   "id": "28131d05-da0c-47a7-b3cd-5c454abaf336",
   "metadata": {},
   "outputs": [
    {
     "data": {
      "text/plain": [
       "array([[1, 2, 3],\n",
       "       [4, 5, 6],\n",
       "       [7, 8, 9]])"
      ]
     },
     "execution_count": 176,
     "metadata": {},
     "output_type": "execute_result"
    }
   ],
   "source": [
    "B"
   ]
  },
  {
   "cell_type": "code",
   "execution_count": 177,
   "id": "2953fb1f-ae9c-4288-88ec-c9e1c76860e0",
   "metadata": {},
   "outputs": [
    {
     "name": "stdout",
     "output_type": "stream",
     "text": [
      "[[2 3]\n",
      " [5 6]\n",
      " [8 9]]\n"
     ]
    }
   ],
   "source": [
    "print(B[:,1:3])"
   ]
  },
  {
   "cell_type": "code",
   "execution_count": 178,
   "id": "b120917f-3d35-477c-8ae5-8531c423481b",
   "metadata": {},
   "outputs": [
    {
     "name": "stdout",
     "output_type": "stream",
     "text": [
      "[[2]\n",
      " [5]]\n"
     ]
    }
   ],
   "source": [
    "print(B[0:2,1:2])"
   ]
  },
  {
   "cell_type": "markdown",
   "id": "323a287a-446c-45ec-b897-7a395cc6d69f",
   "metadata": {},
   "source": [
    "# updating matrix element"
   ]
  },
  {
   "cell_type": "code",
   "execution_count": 179,
   "id": "0b30e2ca-670d-4c55-8eec-ad873002230c",
   "metadata": {},
   "outputs": [
    {
     "name": "stdout",
     "output_type": "stream",
     "text": [
      "[[3]\n",
      " [6]\n",
      " [9]]\n"
     ]
    }
   ],
   "source": [
    "print(B[0:3,2:3])"
   ]
  },
  {
   "cell_type": "code",
   "execution_count": 182,
   "id": "b9b96d2f-0482-4092-8d96-a4ea6a6b171b",
   "metadata": {},
   "outputs": [
    {
     "name": "stdout",
     "output_type": "stream",
     "text": [
      "9\n"
     ]
    }
   ],
   "source": [
    "print(B[2,2])"
   ]
  },
  {
   "cell_type": "code",
   "execution_count": 183,
   "id": "b2ab80a0-8c0a-4737-990c-287881417659",
   "metadata": {},
   "outputs": [
    {
     "data": {
      "text/plain": [
       "array([[1, 2, 3],\n",
       "       [4, 5, 6],\n",
       "       [7, 8, 9]])"
      ]
     },
     "execution_count": 183,
     "metadata": {},
     "output_type": "execute_result"
    }
   ],
   "source": [
    "B"
   ]
  },
  {
   "cell_type": "code",
   "execution_count": 185,
   "id": "78643b60-db88-436c-be8a-d1f8d25e0b36",
   "metadata": {},
   "outputs": [
    {
     "name": "stdout",
     "output_type": "stream",
     "text": [
      "5\n"
     ]
    }
   ],
   "source": [
    "print(B[1,1])"
   ]
  },
  {
   "cell_type": "code",
   "execution_count": 186,
   "id": "eaaa6701-52cf-47da-a6a0-22bf4076eacc",
   "metadata": {},
   "outputs": [
    {
     "name": "stdout",
     "output_type": "stream",
     "text": [
      "[4 5 6]\n"
     ]
    }
   ],
   "source": [
    "print(B[1])"
   ]
  },
  {
   "cell_type": "code",
   "execution_count": 187,
   "id": "70407a5a-8b7d-4d2b-a0f0-2f4a4b96ac50",
   "metadata": {},
   "outputs": [
    {
     "name": "stdout",
     "output_type": "stream",
     "text": [
      "[[ 1  2  3]\n",
      " [10 10 10]\n",
      " [ 7  8  9]]\n"
     ]
    }
   ],
   "source": [
    "B[1]=10\n",
    "print(B)"
   ]
  },
  {
   "cell_type": "code",
   "execution_count": 188,
   "id": "211122cc-19cd-43a0-a3df-a55683ee62aa",
   "metadata": {},
   "outputs": [
    {
     "name": "stdout",
     "output_type": "stream",
     "text": [
      "[[ 1  2 15]\n",
      " [10 10 15]\n",
      " [ 7  8 15]]\n"
     ]
    }
   ],
   "source": [
    "B[:,2]=15\n",
    "print(B)"
   ]
  },
  {
   "cell_type": "code",
   "execution_count": 189,
   "id": "4cf9efc5-d4c4-4ed7-872d-706d6eba47e5",
   "metadata": {},
   "outputs": [
    {
     "data": {
      "text/plain": [
       "(array([2], dtype=int64), array([1], dtype=int64))"
      ]
     },
     "execution_count": 189,
     "metadata": {},
     "output_type": "execute_result"
    }
   ],
   "source": [
    "np.where(B==8)"
   ]
  },
  {
   "cell_type": "code",
   "execution_count": 191,
   "id": "187cb9df-44f9-49ad-ac2f-918826a33763",
   "metadata": {},
   "outputs": [
    {
     "name": "stdout",
     "output_type": "stream",
     "text": [
      "8\n"
     ]
    }
   ],
   "source": [
    "print(B[2,1])"
   ]
  },
  {
   "cell_type": "code",
   "execution_count": 192,
   "id": "dff82bac-1b83-4d17-94d4-69f2421080d1",
   "metadata": {},
   "outputs": [
    {
     "name": "stdout",
     "output_type": "stream",
     "text": [
      "[[ 1  2 15]\n",
      " [10 10 15]\n",
      " [ 7 20 15]]\n"
     ]
    }
   ],
   "source": [
    "B[2,1]=20\n",
    "print(B)"
   ]
  },
  {
   "cell_type": "code",
   "execution_count": 2,
   "id": "9af4abd9-2282-4b64-9141-b8d9e926f814",
   "metadata": {},
   "outputs": [],
   "source": [
    "import numpy as np"
   ]
  },
  {
   "cell_type": "code",
   "execution_count": 7,
   "id": "69e4ba07-5510-4b9e-b67e-8df8321f7bae",
   "metadata": {},
   "outputs": [
    {
     "name": "stdout",
     "output_type": "stream",
     "text": [
      "[[1 2 3]\n",
      " [4 5 6]\n",
      " [7 8 9]]\n"
     ]
    },
    {
     "data": {
      "text/plain": [
       "numpy.ndarray"
      ]
     },
     "execution_count": 7,
     "metadata": {},
     "output_type": "execute_result"
    }
   ],
   "source": [
    "M=np.arange(1,10,1).reshape(3,3)\n",
    "print(M)\n",
    "type(M)"
   ]
  },
  {
   "cell_type": "code",
   "execution_count": 12,
   "id": "408bd6ec-b024-4f78-a629-7fb071c45c33",
   "metadata": {},
   "outputs": [
    {
     "name": "stdout",
     "output_type": "stream",
     "text": [
      "[5]\n"
     ]
    }
   ],
   "source": [
    "print(M[1,1:2])"
   ]
  },
  {
   "cell_type": "code",
   "execution_count": 22,
   "id": "8cbb9d97-c6a9-418e-8729-cb2946a042bf",
   "metadata": {},
   "outputs": [
    {
     "name": "stdout",
     "output_type": "stream",
     "text": [
      "[[1 2 3]\n",
      " [4 5 6]\n",
      " [7 8 9]]\n"
     ]
    }
   ],
   "source": [
    "print(M)"
   ]
  },
  {
   "cell_type": "code",
   "execution_count": 23,
   "id": "c996f8cc-48bb-4a25-83d9-e90049b679d3",
   "metadata": {},
   "outputs": [
    {
     "name": "stdout",
     "output_type": "stream",
     "text": [
      "[[6]]\n"
     ]
    }
   ],
   "source": [
    "print(M[1:2,2:3])"
   ]
  },
  {
   "cell_type": "code",
   "execution_count": 36,
   "id": "62887a24-a5a9-4310-b2e0-66238a289a0e",
   "metadata": {},
   "outputs": [
    {
     "name": "stdout",
     "output_type": "stream",
     "text": [
      "[[1 2 3]\n",
      " [4 5 6]\n",
      " [7 8 9]]\n"
     ]
    }
   ],
   "source": [
    "C=np.arange(1,10).reshape(3,3)\n",
    "print(C)"
   ]
  },
  {
   "cell_type": "code",
   "execution_count": 32,
   "id": "323a54e7-a6b7-402a-85f7-7d23b004e786",
   "metadata": {},
   "outputs": [
    {
     "name": "stdout",
     "output_type": "stream",
     "text": [
      "[[24 20 21]\n",
      " [20 25 22]\n",
      " [21 25 21]]\n"
     ]
    }
   ],
   "source": [
    "D=np.random.randint(20,30,(3,3))\n",
    "print(D)"
   ]
  },
  {
   "cell_type": "code",
   "execution_count": 33,
   "id": "911d2887-8db0-4290-883f-1dea6a4d7bb9",
   "metadata": {},
   "outputs": [
    {
     "data": {
      "text/plain": [
       "array([[20, 21, 24],\n",
       "       [20, 22, 25],\n",
       "       [21, 21, 25]])"
      ]
     },
     "execution_count": 33,
     "metadata": {},
     "output_type": "execute_result"
    }
   ],
   "source": [
    "np.sort(D)"
   ]
  },
  {
   "cell_type": "code",
   "execution_count": 34,
   "id": "23c07518-2205-4ac9-939d-6839d738f110",
   "metadata": {},
   "outputs": [
    {
     "data": {
      "text/plain": [
       "array([[20, 20, 21],\n",
       "       [21, 25, 21],\n",
       "       [24, 25, 22]])"
      ]
     },
     "execution_count": 34,
     "metadata": {},
     "output_type": "execute_result"
    }
   ],
   "source": [
    "np.sort(D,axis=0)"
   ]
  },
  {
   "cell_type": "code",
   "execution_count": 40,
   "id": "c0325a45-95d8-4bf0-a737-de85751ec37a",
   "metadata": {},
   "outputs": [
    {
     "name": "stdout",
     "output_type": "stream",
     "text": [
      "[[50 49 48]\n",
      " [47 46 45]\n",
      " [44 43 42]]\n"
     ]
    }
   ],
   "source": [
    "E=np.arange(50,41,-1).reshape(3,3)\n",
    "print(E)"
   ]
  },
  {
   "cell_type": "code",
   "execution_count": 41,
   "id": "dd2ea4a7-bedc-4ba6-8762-2c3e1f85daab",
   "metadata": {},
   "outputs": [
    {
     "data": {
      "text/plain": [
       "array([[48, 49, 50],\n",
       "       [45, 46, 47],\n",
       "       [42, 43, 44]])"
      ]
     },
     "execution_count": 41,
     "metadata": {},
     "output_type": "execute_result"
    }
   ],
   "source": [
    "np.sort(E)"
   ]
  },
  {
   "cell_type": "code",
   "execution_count": 42,
   "id": "f7d2c668-158d-484e-95d2-ecd16db4a2ff",
   "metadata": {},
   "outputs": [
    {
     "data": {
      "text/plain": [
       "array([[44, 43, 42],\n",
       "       [47, 46, 45],\n",
       "       [50, 49, 48]])"
      ]
     },
     "execution_count": 42,
     "metadata": {},
     "output_type": "execute_result"
    }
   ],
   "source": [
    "np.sort(E,axis=0)"
   ]
  },
  {
   "cell_type": "markdown",
   "id": "c59758cf-e911-496c-8cb3-7a8c78995cf0",
   "metadata": {},
   "source": [
    "# Sub-setting"
   ]
  },
  {
   "cell_type": "code",
   "execution_count": 1,
   "id": "dfe4c0d8-e5c2-419a-9de0-3fbe513a4978",
   "metadata": {},
   "outputs": [],
   "source": [
    "import numpy as np"
   ]
  },
  {
   "cell_type": "code",
   "execution_count": 2,
   "id": "4f6a2d3b-6e02-46df-b3ae-bd34240e603d",
   "metadata": {},
   "outputs": [],
   "source": [
    "from numpy.random import randint as ri"
   ]
  },
  {
   "cell_type": "code",
   "execution_count": 3,
   "id": "ed78641b-1105-4a9a-9bb2-3c0a74ea60f4",
   "metadata": {},
   "outputs": [
    {
     "name": "stdout",
     "output_type": "stream",
     "text": [
      "[[56 85 28]\n",
      " [24 32 86]\n",
      " [86 22 34]\n",
      " [85 43 67]\n",
      " [86 20 92]]\n"
     ]
    }
   ],
   "source": [
    "F = np.array(ri(10,100,15)).reshape(5,3)\n",
    "print(F)"
   ]
  },
  {
   "cell_type": "code",
   "execution_count": 48,
   "id": "a70f2f47-0cf0-4d65-bf36-9b9a0c4c5532",
   "metadata": {},
   "outputs": [
    {
     "data": {
      "text/plain": [
       "array([[False,  True,  True],\n",
       "       [ True, False,  True],\n",
       "       [False,  True,  True],\n",
       "       [ True,  True,  True],\n",
       "       [ True, False, False]])"
      ]
     },
     "execution_count": 48,
     "metadata": {},
     "output_type": "execute_result"
    }
   ],
   "source": [
    "F>50"
   ]
  },
  {
   "cell_type": "code",
   "execution_count": 49,
   "id": "27db36fb-19ae-4eab-a7f4-71a5532ece60",
   "metadata": {},
   "outputs": [
    {
     "data": {
      "text/plain": [
       "array([90, 63, 70, 93, 62, 51, 96, 91, 69, 78])"
      ]
     },
     "execution_count": 49,
     "metadata": {},
     "output_type": "execute_result"
    }
   ],
   "source": [
    "F[F>50]"
   ]
  },
  {
   "cell_type": "code",
   "execution_count": 4,
   "id": "c8960aff-753f-4823-8458-49f69a7f0285",
   "metadata": {},
   "outputs": [
    {
     "data": {
      "text/plain": [
       "15"
      ]
     },
     "execution_count": 4,
     "metadata": {},
     "output_type": "execute_result"
    }
   ],
   "source": [
    "np.count_nonzero(F)"
   ]
  },
  {
   "cell_type": "code",
   "execution_count": null,
   "id": "a0543a3a-77ac-4ba2-a6b3-55c46212c008",
   "metadata": {},
   "outputs": [],
   "source": [
    "Lecture completed 11 May 2024"
   ]
  },
  {
   "cell_type": "markdown",
   "id": "83de6eeb-da77-4f03-86ea-025d13f6432d",
   "metadata": {},
   "source": [
    "#LECTURE DATE 12/05/2024"
   ]
  },
  {
   "cell_type": "markdown",
   "id": "e7864238-ad60-489d-a2d4-394282da7b8d",
   "metadata": {},
   "source": [
    "Universal Functions"
   ]
  },
  {
   "cell_type": "code",
   "execution_count": 5,
   "id": "a55998f2-3227-4df6-894d-90ec1c1e152b",
   "metadata": {},
   "outputs": [],
   "source": [
    "import numpy as np"
   ]
  },
  {
   "cell_type": "code",
   "execution_count": 8,
   "id": "c0e5d914-6348-45c7-a260-f32323ea660d",
   "metadata": {},
   "outputs": [],
   "source": [
    "from numpy.random import randint as ri"
   ]
  },
  {
   "cell_type": "code",
   "execution_count": 10,
   "id": "3ff69d12-b73d-4e85-a2bf-4dfaba120513",
   "metadata": {},
   "outputs": [],
   "source": [
    "mat1=np.array(ri(1,10,9).reshape(3,3))"
   ]
  },
  {
   "cell_type": "code",
   "execution_count": 12,
   "id": "ce489841-d840-4503-8af0-4d87f9267943",
   "metadata": {},
   "outputs": [],
   "source": [
    "mat2=np.array(ri(11,20,9).reshape(3,3))"
   ]
  },
  {
   "cell_type": "code",
   "execution_count": 15,
   "id": "a0aebbd3-0935-4b6a-933f-325aecc8cd2b",
   "metadata": {},
   "outputs": [
    {
     "name": "stdout",
     "output_type": "stream",
     "text": [
      "[[14 19 23]\n",
      " [21 23 20]\n",
      " [25 25 20]]\n"
     ]
    }
   ],
   "source": [
    "print(mat1+mat2)"
   ]
  },
  {
   "cell_type": "code",
   "execution_count": 16,
   "id": "54712e9f-d8b2-430b-a14f-21bf9a180b73",
   "metadata": {},
   "outputs": [
    {
     "data": {
      "text/plain": [
       "array([[3, 6, 6],\n",
       "       [7, 9, 8],\n",
       "       [6, 9, 5]])"
      ]
     },
     "execution_count": 16,
     "metadata": {},
     "output_type": "execute_result"
    }
   ],
   "source": [
    "mat1"
   ]
  },
  {
   "cell_type": "code",
   "execution_count": 17,
   "id": "c87909f7-4f6d-468b-a09c-de9c314b91da",
   "metadata": {},
   "outputs": [
    {
     "data": {
      "text/plain": [
       "array([[11, 13, 17],\n",
       "       [14, 14, 12],\n",
       "       [19, 16, 15]])"
      ]
     },
     "execution_count": 17,
     "metadata": {},
     "output_type": "execute_result"
    }
   ],
   "source": [
    "mat2"
   ]
  },
  {
   "cell_type": "code",
   "execution_count": 18,
   "id": "48061495-5168-449a-89ee-a66f74ac107b",
   "metadata": {},
   "outputs": [
    {
     "data": {
      "text/plain": [
       "array([[14, 19, 23],\n",
       "       [21, 23, 20],\n",
       "       [25, 25, 20]])"
      ]
     },
     "execution_count": 18,
     "metadata": {},
     "output_type": "execute_result"
    }
   ],
   "source": [
    "mat1+mat2"
   ]
  },
  {
   "cell_type": "code",
   "execution_count": 20,
   "id": "7cc0caf6-34ec-4138-93c5-d61f42c853c3",
   "metadata": {},
   "outputs": [],
   "source": [
    "mat3=np.array(ri(11,20,6).reshape(2,3))"
   ]
  },
  {
   "cell_type": "code",
   "execution_count": 21,
   "id": "edc927f6-1445-47cd-9344-69d90797b561",
   "metadata": {},
   "outputs": [
    {
     "data": {
      "text/plain": [
       "array([[19, 18, 18],\n",
       "       [19, 15, 11]])"
      ]
     },
     "execution_count": 21,
     "metadata": {},
     "output_type": "execute_result"
    }
   ],
   "source": [
    "mat3"
   ]
  },
  {
   "cell_type": "code",
   "execution_count": 25,
   "id": "a6909817-45c7-4c0b-8bca-864a4de50f6b",
   "metadata": {},
   "outputs": [
    {
     "data": {
      "text/plain": [
       "array([[3, 6, 6],\n",
       "       [7, 9, 8],\n",
       "       [6, 9, 5]])"
      ]
     },
     "execution_count": 25,
     "metadata": {},
     "output_type": "execute_result"
    }
   ],
   "source": [
    "mat1"
   ]
  },
  {
   "cell_type": "code",
   "execution_count": 26,
   "id": "d0287972-e030-4b73-8905-08a4e73f1447",
   "metadata": {},
   "outputs": [
    {
     "data": {
      "text/plain": [
       "array([[19, 18, 18],\n",
       "       [19, 15, 11]])"
      ]
     },
     "execution_count": 26,
     "metadata": {},
     "output_type": "execute_result"
    }
   ],
   "source": [
    "mat3"
   ]
  },
  {
   "cell_type": "code",
   "execution_count": 27,
   "id": "7a251d73-9d79-464f-a0dc-21bb8343cfdf",
   "metadata": {},
   "outputs": [
    {
     "data": {
      "text/plain": [
       "array([[ 33,  78, 102],\n",
       "       [ 98, 126,  96],\n",
       "       [114, 144,  75]])"
      ]
     },
     "execution_count": 27,
     "metadata": {},
     "output_type": "execute_result"
    }
   ],
   "source": [
    "mat1*mat2"
   ]
  },
  {
   "cell_type": "code",
   "execution_count": 32,
   "id": "287782e7-d5d2-42d4-a138-37781d036714",
   "metadata": {},
   "outputs": [
    {
     "name": "stdout",
     "output_type": "stream",
     "text": [
      "[[0. 0. 0.]\n",
      " [0. 0. 0.]\n",
      " [0. 0. 0.]]\n"
     ]
    }
   ],
   "source": [
    "Z=np.zeros((3,3))\n",
    "print(Z)"
   ]
  },
  {
   "cell_type": "code",
   "execution_count": 40,
   "id": "dca3110a-86bf-43c1-a1de-6167db4e21ad",
   "metadata": {},
   "outputs": [],
   "source": [
    "O=np.array([[1,1,1]])"
   ]
  },
  {
   "cell_type": "code",
   "execution_count": 41,
   "id": "c79fa8e5-5c34-4d63-a533-104cd79d48c2",
   "metadata": {},
   "outputs": [
    {
     "data": {
      "text/plain": [
       "array([[1, 1, 1]])"
      ]
     },
     "execution_count": 41,
     "metadata": {},
     "output_type": "execute_result"
    }
   ],
   "source": [
    "O"
   ]
  },
  {
   "cell_type": "code",
   "execution_count": 42,
   "id": "a940b278-2b67-4b7f-a7fb-95abacda399b",
   "metadata": {},
   "outputs": [
    {
     "name": "stdout",
     "output_type": "stream",
     "text": [
      "[[1 1 1]]\n"
     ]
    }
   ],
   "source": [
    "print(O)"
   ]
  },
  {
   "cell_type": "code",
   "execution_count": 45,
   "id": "690df01f-6888-4cc5-b2c9-77cbc04ff4c4",
   "metadata": {},
   "outputs": [
    {
     "name": "stdout",
     "output_type": "stream",
     "text": [
      "[[1. 1. 1.]\n",
      " [1. 1. 1.]\n",
      " [1. 1. 1.]]\n"
     ]
    }
   ],
   "source": [
    "print(Z + O)"
   ]
  },
  {
   "cell_type": "code",
   "execution_count": 46,
   "id": "68b89d08-45d0-4864-8c8d-e8f97fb73f63",
   "metadata": {},
   "outputs": [
    {
     "name": "stdout",
     "output_type": "stream",
     "text": [
      "[[1. 1. 1.]\n",
      " [1. 1. 1.]\n",
      " [1. 1. 1.]]\n"
     ]
    }
   ],
   "source": [
    "print(Z + O.T)"
   ]
  },
  {
   "cell_type": "code",
   "execution_count": null,
   "id": "a7aac5f8-e862-41ad-bb40-8785a3b842f4",
   "metadata": {},
   "outputs": [],
   "source": []
  },
  {
   "cell_type": "code",
   "execution_count": null,
   "id": "b1137740-26a6-486e-8845-76d356e8dff7",
   "metadata": {},
   "outputs": [],
   "source": []
  },
  {
   "cell_type": "code",
   "execution_count": null,
   "id": "1217234f-c6ae-4e25-9793-8125a89b4add",
   "metadata": {},
   "outputs": [],
   "source": []
  },
  {
   "cell_type": "code",
   "execution_count": null,
   "id": "bb3544ed-3964-4daa-bbcf-9a0629a1bdf0",
   "metadata": {},
   "outputs": [],
   "source": []
  },
  {
   "cell_type": "code",
   "execution_count": null,
   "id": "94372117-c671-4ae1-b88b-fbce07d5f751",
   "metadata": {},
   "outputs": [],
   "source": []
  }
 ],
 "metadata": {
  "kernelspec": {
   "display_name": "Python 3 (ipykernel)",
   "language": "python",
   "name": "python3"
  },
  "language_info": {
   "codemirror_mode": {
    "name": "ipython",
    "version": 3
   },
   "file_extension": ".py",
   "mimetype": "text/x-python",
   "name": "python",
   "nbconvert_exporter": "python",
   "pygments_lexer": "ipython3",
   "version": "3.11.7"
  }
 },
 "nbformat": 4,
 "nbformat_minor": 5
}
